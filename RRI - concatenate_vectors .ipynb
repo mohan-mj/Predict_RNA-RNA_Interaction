{
 "cells": [
  {
   "cell_type": "markdown",
   "metadata": {},
   "source": [
    "# Prediction of RNA-RNA Interaction  using Deep Learning"
   ]
  },
  {
   "cell_type": "markdown",
   "metadata": {},
   "source": [
    "In this project I have used deep learning methods to predict RNA-RNA interaction (RRI) from the sequencing-based training data."
   ]
  },
  {
   "cell_type": "markdown",
   "metadata": {},
   "source": [
    "## Understanding the RNA \n",
    "\n",
    "Ribonucleic acid (RNA) is a polymeric molecule essential in various biological roles in coding, decoding, regulation and expression of genes. RNA and DNA are nucleic acids, and, along with lipids, proteins and carbohydrates, constitute the four major macromolecules essential for all known forms of life. Like DNA, RNA is assembled as a chain of nucleotides, but unlike DNA it is more often found in nature as a single-strand folded onto itself, rather than a paired double-strand. Cellular organisms use messenger RNA (mRNA) to convey genetic information (using the nitrogenous bases of guanine, uracil, adenine, and cytosine, denoted by the letters G, U, A, and C) that directs synthesis of specific proteins. Many viruses encode their genetic information using an RNA genome.\n",
    "Some RNA molecules play an active role within cells by catalyzing biological reactions, controlling gene expression, or sensing and communicating responses to cellular signals. One of these active processes is protein synthesis, a universal function in which RNA molecules direct the assembly of proteins on ribosomes. This process uses transfer RNA (tRNA) molecules to deliver amino acids to the ribosome, where ribosomal RNA (rRNA) then links amino acids together to form proteins.\n",
    "Every strand of RNA is a sequence of four building blocks called nucleotides. Each RNA nucleotide consists of three parts: a sugar, a phosphate group, and a nitrogen-containing base.\n",
    "The four RNA bases are adenine, uracil, guanine, and cytosine—often referred to as A, U, G, and C. RNA shares three bases in common with DNA: adenine, guanine, and cytosine. Instead of uracil, DNA contains thymine.\n",
    "The sugar and phosphate groups form the backbone of a strand of RNA, and the bases bond to each other. RNA nucleotides contain a sugar called ribose, whereas DNA nucleotides contain a sugar called deoxyribose.\n",
    "The four RNA bases bond together in complementary pairs. Different bases form bonds of different strengths.  Guanine-Cytosine form the strongest bond, Adenine-Uracil form the next strongest bond, and Uracil-Guanine form the weakest bond.\n"
   ]
  },
  {
   "cell_type": "markdown",
   "metadata": {},
   "source": [
    "<img src=\"images/5.png\" height=\"500\" width=\"500\">"
   ]
  },
  {
   "cell_type": "markdown",
   "metadata": {},
   "source": [
    "## Simple structure\n",
    "Unlike most of the VirtuaLab RNAs, mRNAs do not usually fold into 3D shapes (and when they do, they have to be unfolded in order to be read by a ribosome). Instead, they resemble long twisted strings.\n",
    "mRNAs form from a DNA template in a process called transcription. When an mRNA is made, it often needs to be edited before it can be translated into a protein. This is carried out by a spliceosome, a molecular machine made of RNAs and proteins, which splices out unwanted RNA from newly made mRNA.\n"
   ]
  },
  {
   "cell_type": "markdown",
   "metadata": {},
   "source": [
    "### Translating the mRNA code\n",
    "The four nucleotides A, U, C, and G are the basis of the code in mRNA. Every set of three nucleotides corresponds to a specific amino acid (amino acids are the building blocks of proteins). For example, the code UAC, CGA, GGA on mRNA means “tyrosine, arginine, glycine.” Every three nucleotides of mRNA are recognized by a particular transfer RNA (tRNA) that carries a particular amino acid. Amino acids from tRNAs are linked together to make a protein in a cell’s protein-assembly machine (ribosome) in the order specified in an mRNA.\n"
   ]
  },
  {
   "cell_type": "markdown",
   "metadata": {},
   "source": [
    "<img src=\"images/6_1.png\" height=\"400\" width=\"400\">"
   ]
  },
  {
   "cell_type": "markdown",
   "metadata": {},
   "source": [
    "### Types of RNAs and their functions\n",
    "Those RNAs carrying the code for protein synthesis is called “coding RNAs” or “messenger RNAs (mRNAs)”. Surprisingly, recent evidence revealed that very little of our human genome sequences (less than 2%) could actually end up producing proteins. However, most of the rest genome sequences are actively transcribed to generate the so-called “non-coding RNAs (ncRNAs)”. These ncRNAs do not undergo translation to synthesize proteins. But, may hold the key to broaden our understanding of gene regulation and human diseases. Many of them are reported to serve as various regulatory elements in the genome, whereas most are still of unknown importance to gene regulation.\n"
   ]
  },
  {
   "cell_type": "markdown",
   "metadata": {},
   "source": [
    "<img src=\"images/7.png\" height=\"400\" width=\"600\">"
   ]
  },
  {
   "cell_type": "markdown",
   "metadata": {},
   "source": [
    "## Coding-RNA (messenger RNA; mRNA)\n",
    "Messenger RNA (mRNA) carries the genetic code from DNA in a form that can be recognized to make proteins. The coding sequence of the mRNA determines the amino acid sequence in the protein produced. Once transcribed from DNA, eukaryotic mRNA briefly exists in a form called “precursor mRNA (pre-mRNA)” before it is fully processed into mature mRNA. This processing step, which is called “RNA splicing”, removes the introns—non-coding sections of the pre-mRNA. There are approximately 23,000 mRNAs encoded in human genome.\n"
   ]
  },
  {
   "cell_type": "markdown",
   "metadata": {},
   "source": [
    "### Non-coding RNA (ncRNA)\n",
    "Ribosomal RNA (rRNA)\n",
    "\n",
    "Ribosomal RNA is the catalytic component of the ribosomes. In the cytoplasm, rRNAs and protein components combine to form a nucleoprotein complex called the ribosome which binds mRNA and synthesizes proteins (also called translation).\n",
    "\n",
    "Transfer RNA (tRNA)\n",
    "\n",
    "Transfer RNA is a small RNA chain of about 80 nucleotides. During translation, tRNA transfers specific amino acids that correspond to the mRNA sequence into the growing polypeptide chain at the ribosome.\n",
    "\n",
    "Small nuclear RNAs (snRNA; 150 nt)\n",
    "\n",
    "Small nuclear RNAs are always associated with a group of specific proteins to form the complexes referred to as “small nuclear ribonucleoproteins (snRNP)” in the nucleus. Their primary function is to process the precursor mRNA (pre-mRNA).\n",
    "\n",
    "Small nucleolar RNAs (snoRNA; 60-300 nt)\n",
    "\n",
    "Small nucleolar RNAs are components of small nucleolar ribonucleoproteins (snoRNPs), which are complexes that are responsible for sequence-specific nucleotide modification.\n",
    "\n",
    "Piwi-interacting RNAs (piRNA; 24-30 nt)\n",
    "\n",
    "Piwi-interacting RNAs bind the PIWI subfamily proteins that are involved in maintaining genome stability in germline cells. Piwi-interacting RNAs also play a role in gametogenesis.\n",
    "\n",
    "MicroRNAs (miRNA; 21-22 nt)\n",
    "\n",
    "MicroRNAs are small ncRNAs of ~22 nucleotides (nt) and the most widely studied class of ncRNAs. These RNA species mediate post-transcriptional gene silencing through RNA interference (RNAi), where an effector complex of miRNA and enzymes can target complementary mRNA by blocking the mRNA from being translated or accelerating its degradation. In human, miRNAs are estimated to regulate the translation of >60% of protein-coding genes.\n",
    "\n",
    "Long noncoding RNAs (lncRNA)\n",
    "\n",
    "Long noncoding RNAs are a heterogeneous group of non-coding transcripts larger than 200 nt in size and make up the largest portion of the mammalian non-coding transcriptome. It is estimated that more than 8,000 lncRNAs encoded in the human genome. lncRNAs are essential in many physiological processes. To date, various mechanisms of gene regulation by some lncRNAs have been reported, whereas most are still of unknown function.\n"
   ]
  },
  {
   "cell_type": "markdown",
   "metadata": {},
   "source": [
    "## Something about RNA-RNA Interactions\n",
    "In addition to transferring genetic information, RNA molecules play important roles in various biological events, including transcriptional regulation, alternative splicing, and protein synthesis. It is studied that the genome is largely transcribed, and most transcripts do not encode proteins. Throughout their life cycle, RNAs function by interacting with different molecules (e.g., proteins, DNA, RNA). \n",
    "For instance, hundreds of RNA binding proteins (RBPs) have been discovered in prokaryotes and eukaryotes. RBPs interact with RNAs and form ribonucleoprotein (RNP) complexes to perform specific functions in RNA processing and post-transcriptional regulation. In nucleus, some lncRNAs can regulate the expression of specific genes by interacting with the chromatin and modulating the epigenetic states of neighboring genomic loci.\n",
    " Another important type of RNA interaction is between two RNA molecules, i.e., RNA-RNA interactions (RRIs). For instance, in splicing, small nuclear RNAs (snRNAs) can recognize intronic regions of precursor messenger RNAs (premRNAs), a critical step in determining RNA splicing products. In translation, amino-acylated transfer RNAs (tRNAs) interact with mRNAs by reading the three-letter code and define protein amino acid sequences. In microRNA (miRNA) targeting, the base pairing between a miRNA and 3′ UTR of an mRNA can lead to the degradation or translation inhibition of the mRNA. And in RNA modification, small nucleolar RNAs (snoRNAs) guide the modification of ribosomal RNAs (rRNAs) by base pairing. All these examples highlight the significance of RRIs for RNA function and regulation. Much effort has been devoted to decoding the RRIs. \n",
    "Methods have been long designed to detect RRIs based on biophysical and biochemical features that distinguish RNA interacting duplexes from non-interacting ones. RNA duplexes usually migrate slower in electrophoresis gel, allowing them to be separated from non-interacting RNA fragments. Recently, with the advent of next generation sequencing, new techniques based on deep sequencing have been developed to reveal the full network of RRIs, i.e., the interactome, for all transcripts in a cell. They can also be used to study all interactions concerning a certain RNA, usually combined with RNA pull-down with a set of target-specific antisense probes. To clarify, RRIs can be used to represent interactions between two RNAs (inter-molecular) or between different regions of one RNA molecule (intra-molecular). Intramolecular RRIs is the basis of forming RNA secondary structures. Varieties of methods, like enzymatic probing (e.g., PARS, Frag-seq) or chemical probing methods (e.g., DMS-seq, Structure-seq, icSHAPE) have been designed to identify and study intramolecule RRIs, or RNA secondary structures. \n"
   ]
  },
  {
   "cell_type": "markdown",
   "metadata": {},
   "source": [
    "<img src=\"images/8.png\" height=\"400\" width=\"400\">"
   ]
  },
  {
   "cell_type": "markdown",
   "metadata": {},
   "source": [
    "<img src=\"images/9.png\" height=\"400\" width=\"400\">"
   ]
  },
  {
   "cell_type": "markdown",
   "metadata": {},
   "source": [
    "### Dataset \n",
    "I have used the RISE database as training and test data for this project. Each row of the database contains a pair of RNAs that supposedly interact with each other. Gene sequences are taken into consideration for building the deep learning model. "
   ]
  },
  {
   "cell_type": "markdown",
   "metadata": {},
   "source": [
    "### Train Test Split\n",
    "Training the network was done on the training set which contains 90% of the dataset. Dataset was split in an stratified manner. Then to choose the best structure and parameters for the neural network, the trained model was evaluated on the evaluation set which contains 6% of the dataset. Once the best model was chosen, the accuracy of the model on classifying the test set, which contains 4% of the data, was calculated."
   ]
  },
  {
   "cell_type": "markdown",
   "metadata": {},
   "source": [
    "## Vector Representation Using the K-mer Composition\n",
    "\n",
    "To get such vector representation of each input sequence, two different methods were used. Both of them resemble the notion of “Bag of Words” (BoW) which is a common method of vectorization in Natural Language Processing (NLP). In the first representation, each sequence is mapped to an integer vector of the size of all possible k-mers (which is vocabulary in BoW model), with entries equal to the number of occurrences of the corresponding k-mer in the input sequence."
   ]
  },
  {
   "cell_type": "markdown",
   "metadata": {},
   "source": [
    "### Bag of words (BoW) ###\n",
    "\n",
    "Bag of Words(BoW) concept which is a term used to specify the problems that have a 'bag of words' or a collection of text data that needs to be worked with. The basic idea of BoW is to take a piece of text and count the frequency of the words in that text. It is important to note that the BoW concept treats each word individually and the order in which the words occur does not matter. \n",
    "\n",
    "Using a process, we can covert a collection of documents (in the project the documents are RNA sequences) to a matrix, with each document being a row and each word(token) being the column, and the corresponding (row,column) values being the frequency of occurrance of each word or token in that document."
   ]
  },
  {
   "cell_type": "markdown",
   "metadata": {},
   "source": [
    "<img src=\"images/1_bow.png\" height=\"700\" width=\"700\">"
   ]
  },
  {
   "cell_type": "markdown",
   "metadata": {},
   "source": [
    " "
   ]
  },
  {
   "cell_type": "markdown",
   "metadata": {},
   "source": [
    "The second representation is similar to the first one but is a 0 - 1 binary vector which only represents whether a k-mer exists in the sequence. Very large and very small RNAs introduced some complexity and probably some noise to the dataset with both representations. One way of dealing with this problem is to limit the dataset to a threshold."
   ]
  },
  {
   "cell_type": "code",
   "execution_count": 1,
   "metadata": {},
   "outputs": [
    {
     "name": "stdout",
     "output_type": "stream",
     "text": [
      "['are', 'call', 'from', 'hello', 'home', 'how', 'me', 'money', 'now', 'tomorrow', 'win', 'you']\n"
     ]
    }
   ],
   "source": [
    "from sklearn.feature_extraction.text import CountVectorizer\n",
    "import pandas as pd\n",
    "\n",
    "documents = ['Hello, how are you!',\n",
    "                'Win money, win from home.',\n",
    "                'Call me now.',\n",
    "                'Hello, Call hello you tomorrow?']\n",
    "\n",
    "count_vector = CountVectorizer()\n",
    "\n",
    "count_vector.fit(documents)\n",
    "print(count_vector.get_feature_names())"
   ]
  },
  {
   "cell_type": "code",
   "execution_count": 2,
   "metadata": {},
   "outputs": [
    {
     "data": {
      "text/plain": [
       "array([[1, 0, 0, 1, 0, 1, 0, 0, 0, 0, 0, 1],\n",
       "       [0, 0, 1, 0, 1, 0, 0, 1, 0, 0, 2, 0],\n",
       "       [0, 1, 0, 0, 0, 0, 1, 0, 1, 0, 0, 0],\n",
       "       [0, 1, 0, 2, 0, 0, 0, 0, 0, 1, 0, 1]], dtype=int64)"
      ]
     },
     "execution_count": 2,
     "metadata": {},
     "output_type": "execute_result"
    }
   ],
   "source": [
    "doc_array = count_vector.transform(documents).toarray()\n",
    "doc_array"
   ]
  },
  {
   "cell_type": "code",
   "execution_count": 3,
   "metadata": {},
   "outputs": [
    {
     "data": {
      "text/html": [
       "<div>\n",
       "<style scoped>\n",
       "    .dataframe tbody tr th:only-of-type {\n",
       "        vertical-align: middle;\n",
       "    }\n",
       "\n",
       "    .dataframe tbody tr th {\n",
       "        vertical-align: top;\n",
       "    }\n",
       "\n",
       "    .dataframe thead th {\n",
       "        text-align: right;\n",
       "    }\n",
       "</style>\n",
       "<table border=\"1\" class=\"dataframe\">\n",
       "  <thead>\n",
       "    <tr style=\"text-align: right;\">\n",
       "      <th></th>\n",
       "      <th>are</th>\n",
       "      <th>call</th>\n",
       "      <th>from</th>\n",
       "      <th>hello</th>\n",
       "      <th>home</th>\n",
       "      <th>how</th>\n",
       "      <th>me</th>\n",
       "      <th>money</th>\n",
       "      <th>now</th>\n",
       "      <th>tomorrow</th>\n",
       "      <th>win</th>\n",
       "      <th>you</th>\n",
       "    </tr>\n",
       "  </thead>\n",
       "  <tbody>\n",
       "    <tr>\n",
       "      <th>0</th>\n",
       "      <td>1</td>\n",
       "      <td>0</td>\n",
       "      <td>0</td>\n",
       "      <td>1</td>\n",
       "      <td>0</td>\n",
       "      <td>1</td>\n",
       "      <td>0</td>\n",
       "      <td>0</td>\n",
       "      <td>0</td>\n",
       "      <td>0</td>\n",
       "      <td>0</td>\n",
       "      <td>1</td>\n",
       "    </tr>\n",
       "    <tr>\n",
       "      <th>1</th>\n",
       "      <td>0</td>\n",
       "      <td>0</td>\n",
       "      <td>1</td>\n",
       "      <td>0</td>\n",
       "      <td>1</td>\n",
       "      <td>0</td>\n",
       "      <td>0</td>\n",
       "      <td>1</td>\n",
       "      <td>0</td>\n",
       "      <td>0</td>\n",
       "      <td>2</td>\n",
       "      <td>0</td>\n",
       "    </tr>\n",
       "    <tr>\n",
       "      <th>2</th>\n",
       "      <td>0</td>\n",
       "      <td>1</td>\n",
       "      <td>0</td>\n",
       "      <td>0</td>\n",
       "      <td>0</td>\n",
       "      <td>0</td>\n",
       "      <td>1</td>\n",
       "      <td>0</td>\n",
       "      <td>1</td>\n",
       "      <td>0</td>\n",
       "      <td>0</td>\n",
       "      <td>0</td>\n",
       "    </tr>\n",
       "    <tr>\n",
       "      <th>3</th>\n",
       "      <td>0</td>\n",
       "      <td>1</td>\n",
       "      <td>0</td>\n",
       "      <td>2</td>\n",
       "      <td>0</td>\n",
       "      <td>0</td>\n",
       "      <td>0</td>\n",
       "      <td>0</td>\n",
       "      <td>0</td>\n",
       "      <td>1</td>\n",
       "      <td>0</td>\n",
       "      <td>1</td>\n",
       "    </tr>\n",
       "  </tbody>\n",
       "</table>\n",
       "</div>"
      ],
      "text/plain": [
       "   are  call  from  hello  home  how  me  money  now  tomorrow  win  you\n",
       "0    1     0     0      1     0    1   0      0    0         0    0    1\n",
       "1    0     0     1      0     1    0   0      1    0         0    2    0\n",
       "2    0     1     0      0     0    0   1      0    1         0    0    0\n",
       "3    0     1     0      2     0    0   0      0    0         1    0    1"
      ]
     },
     "execution_count": 3,
     "metadata": {},
     "output_type": "execute_result"
    }
   ],
   "source": [
    "frequency_matrix = pd.DataFrame(doc_array, columns = count_vector.get_feature_names())\n",
    "frequency_matrix"
   ]
  },
  {
   "cell_type": "markdown",
   "metadata": {},
   "source": [
    " "
   ]
  },
  {
   "cell_type": "markdown",
   "metadata": {},
   "source": [
    "**The k-mers representation as one-hot encoding is a simple widely used approach in the RBP binding sites prediction field. However, the k-mer feature representation will lead to extremely high-dimensional and sparse problems. Furthermore, the k-mer feature representation ignores the positional information within the sequences, which could negatively impact its predictive power.**"
   ]
  },
  {
   "cell_type": "markdown",
   "metadata": {},
   "source": [
    "## Skip Gram or CBOW\n",
    "The third method is more advanced. In this the skipgram or CBOW model was used to capture the RNA fixed size vectors. This first applies an semi-supervised shallow two-layer neural network to automatically learn the distributed representation of k-mers by considering their neighbor context. Compared to the conventional k-mers approach, distributed representation captures the latent relationship of k-mers, in which the similarity between k-mers is taken into consideration. Then, the learned distributed representations of the input sequences are used as inputs for a deep neural network.\n",
    "\n",
    "Given a set of sentences (also called corpus) the model loops on the words of each sentence and either tries to use the current word of to predict its neighbors (its context), in which case the method is called “Skip-Gram”, or it uses each of these contexts to predict the current word, in which case the method is called “Continuous Bag Of Words” (CBOW)."
   ]
  },
  {
   "cell_type": "markdown",
   "metadata": {},
   "source": [
    "<img src=\"images/3_skip-gram.png\" height=\"600\" width=\"700\">"
   ]
  },
  {
   "cell_type": "markdown",
   "metadata": {},
   "source": [
    "Input word is represented as a one-hot vector. This vector will have 'n' components (n is the size of vocabulary) and placed a '1' in the position corresponding to the word, and 0s in all of the other positions.\n",
    "\n",
    "The output of the network is a single vector (n components) containing, for every word in our vocabulary, the probability that a randomly selected nearby word is that vocabulary word.\n",
    "\n",
    "The architecture of our neural network is as below"
   ]
  },
  {
   "cell_type": "markdown",
   "metadata": {},
   "source": [
    "<img src=\"images/2_skip-gram.png\" height=\"700\" width=\"700\">"
   ]
  },
  {
   "cell_type": "markdown",
   "metadata": {},
   "source": [
    "There is no activation function on the hidden layer neurons, but the output neurons use softmax.\n",
    "\n",
    "Here going to say that we are learning word vectors with 'd' (300 in figure below) features. So the hidden layer is going to be represented by a weight matrix with 'n' rows (one for every word in our vocabulary) and 300 columns (one for every hidden neuron).\n",
    "\n"
   ]
  },
  {
   "cell_type": "markdown",
   "metadata": {},
   "source": [
    "<img src=\"images/4_skip-gram.png\" height=\"400\" width=\"400\">"
   ]
  },
  {
   "cell_type": "markdown",
   "metadata": {},
   "source": [
    "Once the vector representation of the samples were prepared for each RNA, vector representation for each sample of the dataset was generated by concatenating the corresponding vector of its two constituent RNAs. These inputs can then be provided to a sdeep neural network for performing supervised learning."
   ]
  },
  {
   "cell_type": "code",
   "execution_count": 4,
   "metadata": {},
   "outputs": [
    {
     "name": "stderr",
     "output_type": "stream",
     "text": [
      "C:\\Users\\jmo4cob\\AppData\\Local\\conda\\conda\\envs\\tf\\lib\\site-packages\\gensim\\utils.py:1167: UserWarning: detected Windows; aliasing chunkize to chunkize_serial\n",
      "  warnings.warn(\"detected Windows; aliasing chunkize to chunkize_serial\")\n"
     ]
    }
   ],
   "source": [
    "import os\n",
    "import sys\n",
    "import random\n",
    "import numpy as np\n",
    "import pandas as pd\n",
    "import matplotlib.pyplot as plt\n",
    "import pickle\n",
    "from gensim.models import Word2Vec\n",
    "import seaborn as sns\n",
    "from collections import Counter"
   ]
  },
  {
   "cell_type": "code",
   "execution_count": 5,
   "metadata": {},
   "outputs": [],
   "source": [
    "from collections import OrderedDict\n",
    "import gzip\n",
    "from sklearn.preprocessing import LabelEncoder\n",
    "from sklearn.metrics import roc_curve, auc, roc_auc_score, confusion_matrix"
   ]
  },
  {
   "cell_type": "code",
   "execution_count": 6,
   "metadata": {},
   "outputs": [
    {
     "name": "stderr",
     "output_type": "stream",
     "text": [
      "C:\\Users\\jmo4cob\\AppData\\Local\\conda\\conda\\envs\\tf\\lib\\site-packages\\h5py\\__init__.py:36: FutureWarning: Conversion of the second argument of issubdtype from `float` to `np.floating` is deprecated. In future, it will be treated as `np.float64 == np.dtype(float).type`.\n",
      "  from ._conv import register_converters as _register_converters\n",
      "Using TensorFlow backend.\n"
     ]
    }
   ],
   "source": [
    "from keras import backend as K\n",
    "from keras.models import Sequential\n",
    "from keras.layers.core import Dense, Dropout, Activation, Flatten\n",
    "from keras.layers import Embedding\n",
    "from keras.layers.normalization import BatchNormalization\n",
    "from keras.layers.advanced_activations import LeakyReLU, PReLU\n",
    "from keras.optimizers import SGD, RMSprop, Adadelta, Adagrad, Adam\n",
    "from keras.utils import np_utils, generic_utils\n",
    "from keras.layers.convolutional import Convolution1D, MaxPooling1D\n",
    "from keras.layers import LSTM, Bidirectional \n",
    "from keras.callbacks import ModelCheckpoint, EarlyStopping\n",
    "from keras.layers.convolutional import Conv1D\n",
    "from keras.layers.convolutional import MaxPooling1D"
   ]
  },
  {
   "cell_type": "code",
   "execution_count": 7,
   "metadata": {},
   "outputs": [
    {
     "data": {
      "text/plain": [
       "['.DS_Store',\n",
       " 'sentences.csv',\n",
       " 'seq_negative_training.csv',\n",
       " 'seq_positive_training.csv']"
      ]
     },
     "execution_count": 7,
     "metadata": {},
     "output_type": "execute_result"
    }
   ],
   "source": [
    "os.listdir('dataset/')"
   ]
  },
  {
   "cell_type": "markdown",
   "metadata": {},
   "source": [
    "## Import dataset"
   ]
  },
  {
   "cell_type": "code",
   "execution_count": 8,
   "metadata": {},
   "outputs": [],
   "source": [
    "data_pos = pd.read_csv('dataset/seq_positive_training.csv',header=None)\n",
    "data_neg = pd.read_csv('dataset/seq_negative_training.csv',header=None)"
   ]
  },
  {
   "cell_type": "markdown",
   "metadata": {},
   "source": [
    "#### Handling Missing values"
   ]
  },
  {
   "cell_type": "code",
   "execution_count": 9,
   "metadata": {},
   "outputs": [
    {
     "name": "stdout",
     "output_type": "stream",
     "text": [
      "<class 'pandas.core.frame.DataFrame'>\n",
      "RangeIndex: 75839 entries, 0 to 75838\n",
      "Data columns (total 4 columns):\n",
      "0    73850 non-null object\n",
      "1    75744 non-null object\n",
      "2    75839 non-null int64\n",
      "3    75839 non-null int64\n",
      "dtypes: int64(2), object(2)\n",
      "memory usage: 2.3+ MB\n"
     ]
    }
   ],
   "source": [
    "data_pos.info()"
   ]
  },
  {
   "cell_type": "code",
   "execution_count": 10,
   "metadata": {},
   "outputs": [
    {
     "name": "stdout",
     "output_type": "stream",
     "text": [
      "<class 'pandas.core.frame.DataFrame'>\n",
      "RangeIndex: 75607 entries, 0 to 75606\n",
      "Data columns (total 4 columns):\n",
      "0    74671 non-null object\n",
      "1    74495 non-null object\n",
      "2    75607 non-null int64\n",
      "3    75607 non-null int64\n",
      "dtypes: int64(2), object(2)\n",
      "memory usage: 2.3+ MB\n"
     ]
    }
   ],
   "source": [
    "data_neg.info()"
   ]
  },
  {
   "cell_type": "code",
   "execution_count": 11,
   "metadata": {},
   "outputs": [],
   "source": [
    "data_pos.dropna(inplace=True)\n",
    "data_neg.dropna(inplace=True)"
   ]
  },
  {
   "cell_type": "code",
   "execution_count": 12,
   "metadata": {},
   "outputs": [
    {
     "name": "stdout",
     "output_type": "stream",
     "text": [
      "<class 'pandas.core.frame.DataFrame'>\n",
      "Int64Index: 73758 entries, 0 to 75838\n",
      "Data columns (total 4 columns):\n",
      "0    73758 non-null object\n",
      "1    73758 non-null object\n",
      "2    73758 non-null int64\n",
      "3    73758 non-null int64\n",
      "dtypes: int64(2), object(2)\n",
      "memory usage: 2.8+ MB\n"
     ]
    }
   ],
   "source": [
    "data_pos.info()"
   ]
  },
  {
   "cell_type": "code",
   "execution_count": 13,
   "metadata": {},
   "outputs": [
    {
     "name": "stdout",
     "output_type": "stream",
     "text": [
      "<class 'pandas.core.frame.DataFrame'>\n",
      "Int64Index: 73561 entries, 0 to 75606\n",
      "Data columns (total 4 columns):\n",
      "0    73561 non-null object\n",
      "1    73561 non-null object\n",
      "2    73561 non-null int64\n",
      "3    73561 non-null int64\n",
      "dtypes: int64(2), object(2)\n",
      "memory usage: 2.8+ MB\n"
     ]
    }
   ],
   "source": [
    "data_neg.info()"
   ]
  },
  {
   "cell_type": "markdown",
   "metadata": {},
   "source": [
    "## EDA - Exploratory Data Analysis"
   ]
  },
  {
   "cell_type": "code",
   "execution_count": 14,
   "metadata": {},
   "outputs": [
    {
     "data": {
      "text/html": [
       "<div>\n",
       "<style scoped>\n",
       "    .dataframe tbody tr th:only-of-type {\n",
       "        vertical-align: middle;\n",
       "    }\n",
       "\n",
       "    .dataframe tbody tr th {\n",
       "        vertical-align: top;\n",
       "    }\n",
       "\n",
       "    .dataframe thead th {\n",
       "        text-align: right;\n",
       "    }\n",
       "</style>\n",
       "<table border=\"1\" class=\"dataframe\">\n",
       "  <thead>\n",
       "    <tr style=\"text-align: right;\">\n",
       "      <th></th>\n",
       "      <th>0</th>\n",
       "      <th>1</th>\n",
       "      <th>2</th>\n",
       "      <th>3</th>\n",
       "    </tr>\n",
       "  </thead>\n",
       "  <tbody>\n",
       "    <tr>\n",
       "      <th>0</th>\n",
       "      <td>ATCTACCCACGACGCTCAC</td>\n",
       "      <td>TCAGACCCCAGAAAATCTGTTC</td>\n",
       "      <td>19</td>\n",
       "      <td>22</td>\n",
       "    </tr>\n",
       "    <tr>\n",
       "      <th>1</th>\n",
       "      <td>ATATACTTACCTGGCAGGG</td>\n",
       "      <td>CAAATGTGGGAAACTCGACTGCAC</td>\n",
       "      <td>19</td>\n",
       "      <td>24</td>\n",
       "    </tr>\n",
       "    <tr>\n",
       "      <th>2</th>\n",
       "      <td>CTAAAAATTATGTGCTAT</td>\n",
       "      <td>CATATATACATACATATATATATATATATATATATAAT</td>\n",
       "      <td>18</td>\n",
       "      <td>38</td>\n",
       "    </tr>\n",
       "    <tr>\n",
       "      <th>4</th>\n",
       "      <td>GGGAGACATTGGGATGCGCG</td>\n",
       "      <td>AAAACCCGTTGTATTTCCCACTTGAGAATTTCCAGCGGAAGGCAGG...</td>\n",
       "      <td>20</td>\n",
       "      <td>62</td>\n",
       "    </tr>\n",
       "    <tr>\n",
       "      <th>5</th>\n",
       "      <td>ATTACCTGGCAGGGGAGATACCATGAA</td>\n",
       "      <td>CACGAAGGTGGTTTTCCCAGGGCGAGGCTT</td>\n",
       "      <td>27</td>\n",
       "      <td>30</td>\n",
       "    </tr>\n",
       "  </tbody>\n",
       "</table>\n",
       "</div>"
      ],
      "text/plain": [
       "                             0  \\\n",
       "0          ATCTACCCACGACGCTCAC   \n",
       "1          ATATACTTACCTGGCAGGG   \n",
       "2           CTAAAAATTATGTGCTAT   \n",
       "4         GGGAGACATTGGGATGCGCG   \n",
       "5  ATTACCTGGCAGGGGAGATACCATGAA   \n",
       "\n",
       "                                                   1   2   3  \n",
       "0                             TCAGACCCCAGAAAATCTGTTC  19  22  \n",
       "1                           CAAATGTGGGAAACTCGACTGCAC  19  24  \n",
       "2             CATATATACATACATATATATATATATATATATATAAT  18  38  \n",
       "4  AAAACCCGTTGTATTTCCCACTTGAGAATTTCCAGCGGAAGGCAGG...  20  62  \n",
       "5                     CACGAAGGTGGTTTTCCCAGGGCGAGGCTT  27  30  "
      ]
     },
     "execution_count": 14,
     "metadata": {},
     "output_type": "execute_result"
    }
   ],
   "source": [
    "data_pos.head()"
   ]
  },
  {
   "cell_type": "code",
   "execution_count": 15,
   "metadata": {},
   "outputs": [
    {
     "data": {
      "text/html": [
       "<div>\n",
       "<style scoped>\n",
       "    .dataframe tbody tr th:only-of-type {\n",
       "        vertical-align: middle;\n",
       "    }\n",
       "\n",
       "    .dataframe tbody tr th {\n",
       "        vertical-align: top;\n",
       "    }\n",
       "\n",
       "    .dataframe thead th {\n",
       "        text-align: right;\n",
       "    }\n",
       "</style>\n",
       "<table border=\"1\" class=\"dataframe\">\n",
       "  <thead>\n",
       "    <tr style=\"text-align: right;\">\n",
       "      <th></th>\n",
       "      <th>0</th>\n",
       "      <th>1</th>\n",
       "      <th>2</th>\n",
       "      <th>3</th>\n",
       "    </tr>\n",
       "  </thead>\n",
       "  <tbody>\n",
       "    <tr>\n",
       "      <th>75602</th>\n",
       "      <td>TCAGTGAAGAAGGAAAATCTCAAGAACAAATTTTGGAAATTCTC</td>\n",
       "      <td>GTTTGGAAAGAACAATGGGCAGG</td>\n",
       "      <td>44</td>\n",
       "      <td>23</td>\n",
       "    </tr>\n",
       "    <tr>\n",
       "      <th>75603</th>\n",
       "      <td>GAGCGGTTCATGTGGTTCATCC</td>\n",
       "      <td>CAGCCAGAGCCCAGATCGGAAGAGCC</td>\n",
       "      <td>22</td>\n",
       "      <td>26</td>\n",
       "    </tr>\n",
       "    <tr>\n",
       "      <th>75604</th>\n",
       "      <td>AGGGGGTGTAGGGTTATCA</td>\n",
       "      <td>TACGAAAGTGGCTTTAACATATCTGAACACACAATAGCTA</td>\n",
       "      <td>19</td>\n",
       "      <td>40</td>\n",
       "    </tr>\n",
       "    <tr>\n",
       "      <th>75605</th>\n",
       "      <td>TTGCCGAACGCGATGCCCGAGGGCGC</td>\n",
       "      <td>ATTTTGGAGGGCTGTGATTTTTCCAGTATTAAACATGCATGCATTA...</td>\n",
       "      <td>26</td>\n",
       "      <td>66</td>\n",
       "    </tr>\n",
       "    <tr>\n",
       "      <th>75606</th>\n",
       "      <td>ACCATGCTGTAGTGTGTGTAAAC</td>\n",
       "      <td>ATCCACACAGTCCGTGTGCGGGGAGGTAACAAGAAATACCGTGCCC...</td>\n",
       "      <td>23</td>\n",
       "      <td>56</td>\n",
       "    </tr>\n",
       "  </tbody>\n",
       "</table>\n",
       "</div>"
      ],
      "text/plain": [
       "                                                  0  \\\n",
       "75602  TCAGTGAAGAAGGAAAATCTCAAGAACAAATTTTGGAAATTCTC   \n",
       "75603                        GAGCGGTTCATGTGGTTCATCC   \n",
       "75604                           AGGGGGTGTAGGGTTATCA   \n",
       "75605                    TTGCCGAACGCGATGCCCGAGGGCGC   \n",
       "75606                       ACCATGCTGTAGTGTGTGTAAAC   \n",
       "\n",
       "                                                       1   2   3  \n",
       "75602                            GTTTGGAAAGAACAATGGGCAGG  44  23  \n",
       "75603                         CAGCCAGAGCCCAGATCGGAAGAGCC  22  26  \n",
       "75604           TACGAAAGTGGCTTTAACATATCTGAACACACAATAGCTA  19  40  \n",
       "75605  ATTTTGGAGGGCTGTGATTTTTCCAGTATTAAACATGCATGCATTA...  26  66  \n",
       "75606  ATCCACACAGTCCGTGTGCGGGGAGGTAACAAGAAATACCGTGCCC...  23  56  "
      ]
     },
     "execution_count": 15,
     "metadata": {},
     "output_type": "execute_result"
    }
   ],
   "source": [
    "data_neg.tail()"
   ]
  },
  {
   "cell_type": "code",
   "execution_count": 16,
   "metadata": {
    "collapsed": true
   },
   "outputs": [
    {
     "data": {
      "text/plain": [
       "Counter({1: 72,\n",
       "         4: 46,\n",
       "         5: 5,\n",
       "         6: 16,\n",
       "         7: 38,\n",
       "         8: 25,\n",
       "         9: 1,\n",
       "         10: 1,\n",
       "         12: 11,\n",
       "         14: 1,\n",
       "         15: 141,\n",
       "         16: 458,\n",
       "         17: 665,\n",
       "         18: 11534,\n",
       "         19: 8660,\n",
       "         20: 6113,\n",
       "         21: 5242,\n",
       "         22: 9206,\n",
       "         23: 5165,\n",
       "         24: 2565,\n",
       "         25: 2238,\n",
       "         26: 1819,\n",
       "         27: 1557,\n",
       "         28: 1449,\n",
       "         29: 1230,\n",
       "         30: 1086,\n",
       "         31: 1100,\n",
       "         32: 1029,\n",
       "         33: 893,\n",
       "         34: 811,\n",
       "         35: 790,\n",
       "         36: 730,\n",
       "         37: 637,\n",
       "         38: 575,\n",
       "         39: 566,\n",
       "         40: 538,\n",
       "         41: 1590,\n",
       "         42: 444,\n",
       "         43: 382,\n",
       "         44: 352,\n",
       "         45: 328,\n",
       "         46: 270,\n",
       "         47: 231,\n",
       "         48: 233,\n",
       "         49: 201,\n",
       "         50: 195,\n",
       "         51: 148,\n",
       "         52: 152,\n",
       "         53: 143,\n",
       "         54: 141,\n",
       "         55: 127,\n",
       "         56: 126,\n",
       "         57: 125,\n",
       "         58: 117,\n",
       "         59: 98,\n",
       "         60: 97,\n",
       "         61: 66,\n",
       "         62: 69,\n",
       "         63: 76,\n",
       "         64: 65,\n",
       "         65: 68,\n",
       "         66: 79,\n",
       "         67: 48,\n",
       "         68: 53,\n",
       "         69: 54,\n",
       "         70: 52,\n",
       "         71: 55,\n",
       "         72: 53,\n",
       "         73: 66,\n",
       "         74: 57,\n",
       "         75: 64,\n",
       "         76: 57,\n",
       "         77: 60,\n",
       "         78: 50,\n",
       "         79: 46,\n",
       "         80: 45,\n",
       "         81: 62})"
      ]
     },
     "execution_count": 16,
     "metadata": {},
     "output_type": "execute_result"
    }
   ],
   "source": [
    "Counter([len(d) for d in data_pos.iloc[:,0]])"
   ]
  },
  {
   "cell_type": "code",
   "execution_count": 17,
   "metadata": {},
   "outputs": [
    {
     "data": {
      "text/plain": [
       "<matplotlib.axes._subplots.AxesSubplot at 0x2b6492d5d68>"
      ]
     },
     "execution_count": 17,
     "metadata": {},
     "output_type": "execute_result"
    },
    {
     "data": {
      "image/png": "[encoded data removed]",
      "text/plain": [
       "<Figure size 1440x360 with 1 Axes>"
      ]
     },
     "metadata": {},
     "output_type": "display_data"
    }
   ],
   "source": [
    "plt.figure(figsize=(20,5))\n",
    "sns.countplot([len(d) for d in data_pos.iloc[:,0]])"
   ]
  },
  {
   "cell_type": "code",
   "execution_count": 18,
   "metadata": {
    "collapsed": true
   },
   "outputs": [
    {
     "data": {
      "text/plain": [
       "Counter({16: 25,\n",
       "         17: 95,\n",
       "         18: 5384,\n",
       "         19: 6364,\n",
       "         20: 5848,\n",
       "         21: 5183,\n",
       "         22: 4200,\n",
       "         23: 3620,\n",
       "         24: 3023,\n",
       "         25: 2801,\n",
       "         26: 2278,\n",
       "         27: 2048,\n",
       "         28: 1804,\n",
       "         29: 1502,\n",
       "         30: 1364,\n",
       "         31: 1383,\n",
       "         32: 1306,\n",
       "         33: 1155,\n",
       "         34: 1095,\n",
       "         35: 925,\n",
       "         36: 937,\n",
       "         37: 784,\n",
       "         38: 761,\n",
       "         39: 658,\n",
       "         40: 676,\n",
       "         41: 1750,\n",
       "         42: 549,\n",
       "         43: 1411,\n",
       "         44: 1152,\n",
       "         45: 1037,\n",
       "         46: 1039,\n",
       "         47: 1078,\n",
       "         48: 922,\n",
       "         49: 841,\n",
       "         50: 702,\n",
       "         51: 668,\n",
       "         52: 613,\n",
       "         53: 561,\n",
       "         54: 517,\n",
       "         55: 479,\n",
       "         56: 445,\n",
       "         57: 391,\n",
       "         58: 421,\n",
       "         59: 336,\n",
       "         60: 346,\n",
       "         61: 310,\n",
       "         62: 324,\n",
       "         63: 246,\n",
       "         64: 236,\n",
       "         65: 210,\n",
       "         66: 190,\n",
       "         67: 188,\n",
       "         68: 212,\n",
       "         69: 217,\n",
       "         70: 166,\n",
       "         71: 146,\n",
       "         72: 116,\n",
       "         73: 98,\n",
       "         74: 77,\n",
       "         75: 88,\n",
       "         76: 60,\n",
       "         77: 60,\n",
       "         78: 76,\n",
       "         79: 60,\n",
       "         80: 75,\n",
       "         81: 49,\n",
       "         82: 16,\n",
       "         83: 7,\n",
       "         84: 6,\n",
       "         85: 9,\n",
       "         86: 6,\n",
       "         87: 7,\n",
       "         88: 4,\n",
       "         89: 4,\n",
       "         90: 2,\n",
       "         91: 4,\n",
       "         93: 2,\n",
       "         94: 2,\n",
       "         95: 4,\n",
       "         96: 1,\n",
       "         97: 3})"
      ]
     },
     "execution_count": 18,
     "metadata": {},
     "output_type": "execute_result"
    }
   ],
   "source": [
    "cnt = Counter([len(d) for d in data_pos.iloc[:,1]])\n",
    "cnt"
   ]
  },
  {
   "cell_type": "code",
   "execution_count": 19,
   "metadata": {
    "scrolled": true
   },
   "outputs": [
    {
     "data": {
      "text/plain": [
       "<matplotlib.axes._subplots.AxesSubplot at 0x2b63e0745f8>"
      ]
     },
     "execution_count": 19,
     "metadata": {},
     "output_type": "execute_result"
    },
    {
     "data": {
      "image/png": "[encoded data removed]",
      "text/plain": [
       "<Figure size 1440x360 with 1 Axes>"
      ]
     },
     "metadata": {},
     "output_type": "display_data"
    }
   ],
   "source": [
    "plt.figure(figsize=(20,5))\n",
    "sns.countplot([len(d) for d in data_pos.iloc[:,1]])"
   ]
  },
  {
   "cell_type": "code",
   "execution_count": 20,
   "metadata": {
    "collapsed": true
   },
   "outputs": [
    {
     "data": {
      "text/plain": [
       "Counter({1: 38,\n",
       "         8: 15,\n",
       "         15: 96,\n",
       "         16: 138,\n",
       "         17: 310,\n",
       "         18: 7946,\n",
       "         19: 7466,\n",
       "         20: 6098,\n",
       "         21: 5268,\n",
       "         22: 7188,\n",
       "         23: 4668,\n",
       "         24: 2872,\n",
       "         25: 2736,\n",
       "         26: 2091,\n",
       "         27: 1745,\n",
       "         28: 1567,\n",
       "         29: 1329,\n",
       "         30: 1200,\n",
       "         31: 1199,\n",
       "         32: 1142,\n",
       "         33: 977,\n",
       "         34: 907,\n",
       "         35: 858,\n",
       "         36: 792,\n",
       "         37: 692,\n",
       "         38: 617,\n",
       "         39: 613,\n",
       "         40: 613,\n",
       "         41: 1667,\n",
       "         42: 470,\n",
       "         43: 901,\n",
       "         44: 746,\n",
       "         45: 673,\n",
       "         46: 670,\n",
       "         47: 637,\n",
       "         48: 590,\n",
       "         49: 531,\n",
       "         50: 460,\n",
       "         51: 396,\n",
       "         52: 346,\n",
       "         53: 367,\n",
       "         54: 336,\n",
       "         55: 323,\n",
       "         56: 267,\n",
       "         57: 241,\n",
       "         58: 237,\n",
       "         59: 224,\n",
       "         60: 201,\n",
       "         61: 197,\n",
       "         62: 178,\n",
       "         63: 151,\n",
       "         64: 152,\n",
       "         65: 120,\n",
       "         66: 130,\n",
       "         67: 104,\n",
       "         68: 129,\n",
       "         69: 122,\n",
       "         70: 99,\n",
       "         71: 100,\n",
       "         72: 73,\n",
       "         73: 78,\n",
       "         74: 54,\n",
       "         75: 63,\n",
       "         76: 53,\n",
       "         77: 56,\n",
       "         78: 60,\n",
       "         79: 47,\n",
       "         80: 60,\n",
       "         81: 52,\n",
       "         82: 2,\n",
       "         83: 1,\n",
       "         84: 2,\n",
       "         85: 1,\n",
       "         86: 1,\n",
       "         87: 2,\n",
       "         88: 1,\n",
       "         89: 3,\n",
       "         91: 1,\n",
       "         93: 2,\n",
       "         95: 1,\n",
       "         96: 1,\n",
       "         99: 1})"
      ]
     },
     "execution_count": 20,
     "metadata": {},
     "output_type": "execute_result"
    }
   ],
   "source": [
    "Counter([len(d) for d in data_neg.iloc[:,0]])"
   ]
  },
  {
   "cell_type": "code",
   "execution_count": 21,
   "metadata": {},
   "outputs": [
    {
     "data": {
      "text/plain": [
       "<matplotlib.axes._subplots.AxesSubplot at 0x2b648447128>"
      ]
     },
     "execution_count": 21,
     "metadata": {},
     "output_type": "execute_result"
    },
    {
     "data": {
      "image/png": "[encoded data removed]",
      "text/plain": [
       "<Figure size 1440x360 with 1 Axes>"
      ]
     },
     "metadata": {},
     "output_type": "display_data"
    }
   ],
   "source": [
    "plt.figure(figsize=(20,5))\n",
    "sns.countplot([len(d) for d in data_neg.iloc[:,0]])"
   ]
  },
  {
   "cell_type": "code",
   "execution_count": 22,
   "metadata": {
    "collapsed": true
   },
   "outputs": [
    {
     "data": {
      "text/plain": [
       "Counter({1: 34,\n",
       "         4: 48,\n",
       "         5: 2,\n",
       "         6: 18,\n",
       "         7: 42,\n",
       "         8: 9,\n",
       "         9: 1,\n",
       "         10: 1,\n",
       "         12: 17,\n",
       "         15: 65,\n",
       "         16: 345,\n",
       "         17: 439,\n",
       "         18: 8992,\n",
       "         19: 7572,\n",
       "         20: 5833,\n",
       "         21: 5166,\n",
       "         22: 6185,\n",
       "         23: 3973,\n",
       "         24: 2756,\n",
       "         25: 2299,\n",
       "         26: 1968,\n",
       "         27: 1826,\n",
       "         28: 1657,\n",
       "         29: 1345,\n",
       "         30: 1286,\n",
       "         31: 1264,\n",
       "         32: 1179,\n",
       "         33: 1051,\n",
       "         34: 995,\n",
       "         35: 872,\n",
       "         36: 875,\n",
       "         37: 759,\n",
       "         38: 688,\n",
       "         39: 603,\n",
       "         40: 619,\n",
       "         41: 1671,\n",
       "         42: 515,\n",
       "         43: 903,\n",
       "         44: 737,\n",
       "         45: 671,\n",
       "         46: 630,\n",
       "         47: 685,\n",
       "         48: 563,\n",
       "         49: 478,\n",
       "         50: 439,\n",
       "         51: 418,\n",
       "         52: 399,\n",
       "         53: 323,\n",
       "         54: 352,\n",
       "         55: 274,\n",
       "         56: 288,\n",
       "         57: 266,\n",
       "         58: 262,\n",
       "         59: 215,\n",
       "         60: 222,\n",
       "         61: 194,\n",
       "         62: 216,\n",
       "         63: 163,\n",
       "         64: 147,\n",
       "         65: 155,\n",
       "         66: 140,\n",
       "         67: 127,\n",
       "         68: 137,\n",
       "         69: 150,\n",
       "         70: 122,\n",
       "         71: 128,\n",
       "         72: 94,\n",
       "         73: 79,\n",
       "         74: 77,\n",
       "         75: 89,\n",
       "         76: 65,\n",
       "         77: 72,\n",
       "         78: 62,\n",
       "         79: 67,\n",
       "         80: 65,\n",
       "         81: 65,\n",
       "         82: 13,\n",
       "         83: 3,\n",
       "         84: 4,\n",
       "         85: 8,\n",
       "         86: 6,\n",
       "         87: 2,\n",
       "         88: 2,\n",
       "         89: 1,\n",
       "         90: 2,\n",
       "         91: 1,\n",
       "         92: 1,\n",
       "         93: 2,\n",
       "         94: 1,\n",
       "         95: 3,\n",
       "         96: 3})"
      ]
     },
     "execution_count": 22,
     "metadata": {},
     "output_type": "execute_result"
    }
   ],
   "source": [
    "Counter([len(d) for d in data_neg.iloc[:,1]])"
   ]
  },
  {
   "cell_type": "code",
   "execution_count": 23,
   "metadata": {},
   "outputs": [
    {
     "data": {
      "text/plain": [
       "<matplotlib.axes._subplots.AxesSubplot at 0x2b6485d2390>"
      ]
     },
     "execution_count": 23,
     "metadata": {},
     "output_type": "execute_result"
    },
    {
     "data": {
      "image/png": "[encoded data removed]",
      "text/plain": [
       "<Figure size 1440x360 with 1 Axes>"
      ]
     },
     "metadata": {},
     "output_type": "display_data"
    }
   ],
   "source": [
    "plt.figure(figsize=(20,5))\n",
    "sns.countplot([len(d) for d in data_neg.iloc[:,1]])"
   ]
  },
  {
   "cell_type": "code",
   "execution_count": null,
   "metadata": {},
   "outputs": [],
   "source": []
  },
  {
   "cell_type": "markdown",
   "metadata": {},
   "source": [
    "## Vector Representation Using the K-mer Composition"
   ]
  },
  {
   "cell_type": "code",
   "execution_count": 24,
   "metadata": {},
   "outputs": [],
   "source": [
    "def get_4_trids():\n",
    "    nucle_com = []\n",
    "    chars = ['A', 'C', 'G', 'U']\n",
    "    base=len(chars)\n",
    "    end=len(chars)**4  \n",
    "    for i in range(0,end):\n",
    "        n=i\n",
    "        ch0=chars[n%base]\n",
    "        n=n//base\n",
    "        ch1=chars[n%base]\n",
    "        n=n//base\n",
    "        ch2=chars[n%base]\n",
    "        n=n//base\n",
    "        ch3=chars[n%base]\n",
    "        nucle_com.append(ch0 + ch1 + ch2 + ch3)\n",
    "    return  nucle_com   "
   ]
  },
  {
   "cell_type": "code",
   "execution_count": 25,
   "metadata": {},
   "outputs": [
    {
     "data": {
      "text/plain": [
       "256"
      ]
     },
     "execution_count": 25,
     "metadata": {},
     "output_type": "execute_result"
    }
   ],
   "source": [
    "len(get_4_trids())  # length will be 4*4*4*4*4*4"
   ]
  },
  {
   "cell_type": "code",
   "execution_count": 26,
   "metadata": {},
   "outputs": [
    {
     "name": "stdout",
     "output_type": "stream",
     "text": [
      "['AAAA', 'CAAA', 'GAAA', 'UAAA', 'ACAA', 'CCAA', 'GCAA', 'UCAA', 'AGAA', 'CGAA', 'GGAA', 'UGAA', 'AUAA', 'CUAA', 'GUAA', 'UUAA', 'AACA', 'CACA', 'GACA', 'UACA', 'ACCA', 'CCCA', 'GCCA', 'UCCA', 'AGCA', 'CGCA', 'GGCA', 'UGCA', 'AUCA', 'CUCA', 'GUCA', 'UUCA', 'AAGA', 'CAGA', 'GAGA', 'UAGA', 'ACGA', 'CCGA', 'GCGA', 'UCGA', 'AGGA', 'CGGA', 'GGGA', 'UGGA', 'AUGA', 'CUGA', 'GUGA', 'UUGA', 'AAUA', 'CAUA', 'GAUA', 'UAUA', 'ACUA', 'CCUA', 'GCUA', 'UCUA', 'AGUA', 'CGUA', 'GGUA', 'UGUA', 'AUUA', 'CUUA', 'GUUA', 'UUUA', 'AAAC', 'CAAC', 'GAAC', 'UAAC', 'ACAC', 'CCAC', 'GCAC', 'UCAC', 'AGAC', 'CGAC', 'GGAC', 'UGAC', 'AUAC', 'CUAC', 'GUAC', 'UUAC', 'AACC', 'CACC', 'GACC', 'UACC', 'ACCC', 'CCCC', 'GCCC', 'UCCC', 'AGCC', 'CGCC', 'GGCC', 'UGCC', 'AUCC', 'CUCC', 'GUCC', 'UUCC', 'AAGC', 'CAGC', 'GAGC', 'UAGC', 'ACGC', 'CCGC', 'GCGC', 'UCGC', 'AGGC', 'CGGC', 'GGGC', 'UGGC', 'AUGC', 'CUGC', 'GUGC', 'UUGC', 'AAUC', 'CAUC', 'GAUC', 'UAUC', 'ACUC', 'CCUC', 'GCUC', 'UCUC', 'AGUC', 'CGUC', 'GGUC', 'UGUC', 'AUUC', 'CUUC', 'GUUC', 'UUUC', 'AAAG', 'CAAG', 'GAAG', 'UAAG', 'ACAG', 'CCAG', 'GCAG', 'UCAG', 'AGAG', 'CGAG', 'GGAG', 'UGAG', 'AUAG', 'CUAG', 'GUAG', 'UUAG', 'AACG', 'CACG', 'GACG', 'UACG', 'ACCG', 'CCCG', 'GCCG', 'UCCG', 'AGCG', 'CGCG', 'GGCG', 'UGCG', 'AUCG', 'CUCG', 'GUCG', 'UUCG', 'AAGG', 'CAGG', 'GAGG', 'UAGG', 'ACGG', 'CCGG', 'GCGG', 'UCGG', 'AGGG', 'CGGG', 'GGGG', 'UGGG', 'AUGG', 'CUGG', 'GUGG', 'UUGG', 'AAUG', 'CAUG', 'GAUG', 'UAUG', 'ACUG', 'CCUG', 'GCUG', 'UCUG', 'AGUG', 'CGUG', 'GGUG', 'UGUG', 'AUUG', 'CUUG', 'GUUG', 'UUUG', 'AAAU', 'CAAU', 'GAAU', 'UAAU', 'ACAU', 'CCAU', 'GCAU', 'UCAU', 'AGAU', 'CGAU', 'GGAU', 'UGAU', 'AUAU', 'CUAU', 'GUAU', 'UUAU', 'AACU', 'CACU', 'GACU', 'UACU', 'ACCU', 'CCCU', 'GCCU', 'UCCU', 'AGCU', 'CGCU', 'GGCU', 'UGCU', 'AUCU', 'CUCU', 'GUCU', 'UUCU', 'AAGU', 'CAGU', 'GAGU', 'UAGU', 'ACGU', 'CCGU', 'GCGU', 'UCGU', 'AGGU', 'CGGU', 'GGGU', 'UGGU', 'AUGU', 'CUGU', 'GUGU', 'UUGU', 'AAUU', 'CAUU', 'GAUU', 'UAUU', 'ACUU', 'CCUU', 'GCUU', 'UCUU', 'AGUU', 'CGUU', 'GGUU', 'UGUU', 'AUUU', 'CUUU', 'GUUU', 'UUUU']\n"
     ]
    }
   ],
   "source": [
    "print(get_4_trids())  # Print k-mer  here k=4 "
   ]
  },
  {
   "cell_type": "code",
   "execution_count": 27,
   "metadata": {},
   "outputs": [],
   "source": [
    "def get_4_nucleotide_composition(tris, seq):\n",
    "    seq_len = len(seq)\n",
    "    tri_feature = []\n",
    "    k = len(tris[0])\n",
    "    for x in range(len(seq) + 1- k):\n",
    "        kmer = seq[x:x+k]\n",
    "        if kmer in tris:\n",
    "            ind = tris.index(kmer)\n",
    "            tri_feature.append(str(ind))        \n",
    "    return tri_feature"
   ]
  },
  {
   "cell_type": "code",
   "execution_count": 28,
   "metadata": {},
   "outputs": [],
   "source": [
    "def test_rna():\n",
    "    tris = get_4_trids()\n",
    "    seq = '''GGCAGCCCATCTGGGGGGCCTGTAGGGGCTGCCGGGCTGGTGGCCAGTGTTTCC\n",
    "    ACCTCCCTGGCAGTCAGGCCTAGAGGCTGGCGTCTGTGCAGTTGGGGGAGGCAGTAGACAC\n",
    "    GGGACAGGCTTTATTATTTATTTTTCAGCATGAAAGAC'''\n",
    "    seq = seq.replace('T', 'U')\n",
    "    #pdb.set_trace()\n",
    "    trvec = get_4_nucleotide_composition(tris, seq)\n",
    "    return trvec"
   ]
  },
  {
   "cell_type": "code",
   "execution_count": 29,
   "metadata": {},
   "outputs": [
    {
     "name": "stdout",
     "output_type": "stream",
     "text": [
      "144\n",
      "\n",
      "['26', '134', '97', '88', '86', '21', '197', '113', '220', '183', '173', '171', '170', '170', '170', '106', '90', '214', '181', '237', '59', '142', '163', '168', '170', '106', '218', '182', '109', '91', '150', '165', '169', '106', '218', '182', '173', '235', '186', '174', '107', '90', '22', '133', '225', '184', '238', '251', '254', '127', '95', '212', '117', '93', '87', '213', '181', '173', '107', '26', '134', '225', '120', '30', '135', '161', '104', '90', '214', '53', '141', '35', '136', '162', '104', '218', '182', '173', '107', '154', '230', '121', '222', '183', '237', '187', '110', '27', '134', '225', '248', '190', '175', '171', '170', '170', '42', '138', '162', '104', '26', '134', '225', '56', '142', '35', '72', '18', '68', '42', '74', '18', '132', '161', '104', '218', '246', '253', '63', '207', '243', '60', '207', '243', '252', '63', '207', '243', '252', '255', '255', '127', '31', '135', '97', '24', '198', '177', '44', '11', '2', '128', '32', '72']\n"
     ]
    }
   ],
   "source": [
    "print(len(test_rna()))\n",
    "print()\n",
    "print(test_rna()) "
   ]
  },
  {
   "cell_type": "markdown",
   "metadata": {},
   "source": [
    "### Build corpus for vectorization"
   ]
  },
  {
   "cell_type": "code",
   "execution_count": 30,
   "metadata": {},
   "outputs": [
    {
     "name": "stdout",
     "output_type": "stream",
     "text": [
      "294638\n"
     ]
    }
   ],
   "source": [
    "tris = get_4_trids()\n",
    "sentences = []\n",
    "for d in [data_pos.iloc[:,0].values , data_pos.iloc[:,1].values, \\\n",
    "          data_neg.iloc[:,0].values , data_neg.iloc[:,1].values]:\n",
    "    for seq in d:\n",
    "        seq = seq.replace('T', 'U')\n",
    "        trvec = get_4_nucleotide_composition(tris, seq)\n",
    "        sentences.append(trvec)\n",
    "print(len(sentences)) "
   ]
  },
  {
   "cell_type": "code",
   "execution_count": 31,
   "metadata": {},
   "outputs": [
    {
     "name": "stdout",
     "output_type": "stream",
     "text": [
      "[['220', '55', '77', '83', '84', '21', '69', '145', '36', '73', '146', '100', '217', '118', '29', '71'], ['204', '51', '76', '211', '244', '61', '79', '83', '212', '181', '173', '107', '26', '134', '161', '168'], ['13', '3', '0', '0', '192', '240', '60', '207', '179', '236', '187', '110', '219', '54', '205'], ['42', '138', '34', '72', '18', '196', '241', '188', '175', '171', '42', '202', '178', '108', '155', '102', '153'], ['60', '79', '83', '212', '181', '173', '107', '26', '134', '161', '168', '170', '42', '138', '34', '200', '50', '76', '83', '20', '197', '177', '44', '11']]\n"
     ]
    }
   ],
   "source": [
    "print(sentences[:5])"
   ]
  },
  {
   "cell_type": "code",
   "execution_count": 32,
   "metadata": {},
   "outputs": [],
   "source": [
    "# Checkpoint - save sentences\n",
    "pd.DataFrame.to_csv(pd.DataFrame(sentences), path_or_buf='dataset/sentences.csv')"
   ]
  },
  {
   "cell_type": "markdown",
   "metadata": {},
   "source": [
    "## Data Splitting - Train, Test, Validation "
   ]
  },
  {
   "cell_type": "markdown",
   "metadata": {},
   "source": [
    "#### Train"
   ]
  },
  {
   "cell_type": "code",
   "execution_count": 216,
   "metadata": {},
   "outputs": [
    {
     "name": "stdout",
     "output_type": "stream",
     "text": [
      "(73758, 4)\n",
      "(66382, 2)\n",
      "(66382,)\n"
     ]
    }
   ],
   "source": [
    "# Train data\n",
    "print(data_pos.shape)\n",
    "X_train_pos = data_pos.iloc[:,:2].values\n",
    "X_train_pos = X_train_pos[:len(data_pos)*9//10]\n",
    "print(X_train_pos.shape)\n",
    "\n",
    "y_train_pos = np.ones(X_train_pos.shape[0])\n",
    "print(y_train_pos.shape)"
   ]
  },
  {
   "cell_type": "code",
   "execution_count": 217,
   "metadata": {},
   "outputs": [
    {
     "name": "stdout",
     "output_type": "stream",
     "text": [
      "(73561, 4)\n",
      "(66204, 2)\n",
      "(66204,)\n"
     ]
    }
   ],
   "source": [
    "print(data_neg.shape)\n",
    "X_train_neg = data_neg.iloc[:,:2].values\n",
    "X_train_neg = X_train_neg[:len(data_neg)*9//10]\n",
    "print(X_train_neg.shape)\n",
    "\n",
    "y_train_neg = np.zeros(X_train_neg.shape[0])\n",
    "print(y_train_neg.shape)"
   ]
  },
  {
   "cell_type": "code",
   "execution_count": 218,
   "metadata": {},
   "outputs": [
    {
     "data": {
      "text/plain": [
       "(132586, 2)"
      ]
     },
     "execution_count": 218,
     "metadata": {},
     "output_type": "execute_result"
    }
   ],
   "source": [
    "X_train = np.concatenate((X_train_pos, X_train_neg), axis=0) \n",
    "X_train.shape"
   ]
  },
  {
   "cell_type": "code",
   "execution_count": 219,
   "metadata": {},
   "outputs": [
    {
     "data": {
      "text/plain": [
       "(132586,)"
      ]
     },
     "execution_count": 219,
     "metadata": {},
     "output_type": "execute_result"
    }
   ],
   "source": [
    "y_train = np.concatenate((y_train_pos, y_train_neg), axis=0) \n",
    "y_train.shape"
   ]
  },
  {
   "cell_type": "markdown",
   "metadata": {},
   "source": [
    "#### Test"
   ]
  },
  {
   "cell_type": "code",
   "execution_count": 220,
   "metadata": {},
   "outputs": [
    {
     "name": "stdout",
     "output_type": "stream",
     "text": [
      "(4425, 2)\n",
      "(4425,)\n"
     ]
    }
   ],
   "source": [
    "X_test_pos = data_pos.iloc[:,:2].values\n",
    "X_test_pos = X_test_pos[len(data_pos)*9//10 : len(data_pos)*96//100]\n",
    "print(X_test_pos.shape)\n",
    "\n",
    "y_test_pos = np.ones(X_test_pos.shape[0])\n",
    "print(y_test_pos.shape)"
   ]
  },
  {
   "cell_type": "code",
   "execution_count": 221,
   "metadata": {},
   "outputs": [
    {
     "name": "stdout",
     "output_type": "stream",
     "text": [
      "(4414, 2)\n",
      "(4414,)\n"
     ]
    }
   ],
   "source": [
    "X_test_neg = data_neg.iloc[:,:2].values\n",
    "X_test_neg = X_test_neg[len(data_neg)*9//10: len(data_neg)*96//100]\n",
    "print(X_test_neg.shape)\n",
    "\n",
    "y_test_neg = np.zeros(X_test_neg.shape[0])\n",
    "print(y_test_neg.shape)"
   ]
  },
  {
   "cell_type": "code",
   "execution_count": 222,
   "metadata": {},
   "outputs": [
    {
     "data": {
      "text/plain": [
       "(8839, 2)"
      ]
     },
     "execution_count": 222,
     "metadata": {},
     "output_type": "execute_result"
    }
   ],
   "source": [
    "X_test = np.concatenate((X_test_pos, X_test_neg), axis=0) \n",
    "X_test.shape"
   ]
  },
  {
   "cell_type": "code",
   "execution_count": 223,
   "metadata": {},
   "outputs": [
    {
     "data": {
      "text/plain": [
       "(8839,)"
      ]
     },
     "execution_count": 223,
     "metadata": {},
     "output_type": "execute_result"
    }
   ],
   "source": [
    "y_test = np.concatenate((y_test_pos, y_test_neg), axis=0) \n",
    "y_test.shape"
   ]
  },
  {
   "cell_type": "markdown",
   "metadata": {},
   "source": [
    "#### Validate"
   ]
  },
  {
   "cell_type": "code",
   "execution_count": 224,
   "metadata": {},
   "outputs": [
    {
     "name": "stdout",
     "output_type": "stream",
     "text": [
      "(2951, 2)\n",
      "(2951,)\n"
     ]
    }
   ],
   "source": [
    "X_val_pos = data_pos.iloc[:,:2].values\n",
    "X_val_pos = X_val_pos[len(data_pos)*96//100:]\n",
    "print(X_val_pos.shape)\n",
    "\n",
    "y_val_pos = np.ones(X_val_pos.shape[0])\n",
    "print(y_val_pos.shape)"
   ]
  },
  {
   "cell_type": "code",
   "execution_count": 225,
   "metadata": {},
   "outputs": [
    {
     "name": "stdout",
     "output_type": "stream",
     "text": [
      "(2943, 2)\n",
      "(2943,)\n"
     ]
    }
   ],
   "source": [
    "X_val_neg = data_neg.iloc[:,:2].values\n",
    "X_val_neg = X_val_neg[(len(data_neg)*96)//100:]\n",
    "print(X_val_neg.shape)\n",
    "\n",
    "y_val_neg = np.zeros(X_val_neg.shape[0])\n",
    "print(y_val_neg.shape)"
   ]
  },
  {
   "cell_type": "code",
   "execution_count": 226,
   "metadata": {},
   "outputs": [
    {
     "data": {
      "text/plain": [
       "(5894, 2)"
      ]
     },
     "execution_count": 226,
     "metadata": {},
     "output_type": "execute_result"
    }
   ],
   "source": [
    "X_val = np.concatenate((X_val_pos, X_val_neg), axis=0) \n",
    "X_val.shape"
   ]
  },
  {
   "cell_type": "code",
   "execution_count": 227,
   "metadata": {},
   "outputs": [
    {
     "data": {
      "text/plain": [
       "(5894,)"
      ]
     },
     "execution_count": 227,
     "metadata": {},
     "output_type": "execute_result"
    }
   ],
   "source": [
    "y_val = np.concatenate((y_val_pos, y_val_neg), axis=0) \n",
    "y_val.shape"
   ]
  },
  {
   "cell_type": "code",
   "execution_count": 45,
   "metadata": {},
   "outputs": [
    {
     "data": {
      "text/plain": [
       "(147319,)"
      ]
     },
     "execution_count": 45,
     "metadata": {},
     "output_type": "execute_result"
    }
   ],
   "source": [
    "#check\n",
    "np.concatenate((y_train, y_test, y_val), axis=0).shape"
   ]
  },
  {
   "cell_type": "code",
   "execution_count": 46,
   "metadata": {},
   "outputs": [
    {
     "data": {
      "text/plain": [
       "147319"
      ]
     },
     "execution_count": 46,
     "metadata": {},
     "output_type": "execute_result"
    }
   ],
   "source": [
    "data_pos.shape[0]+data_neg.shape[0]"
   ]
  },
  {
   "cell_type": "markdown",
   "metadata": {},
   "source": [
    "## Vectorization"
   ]
  },
  {
   "cell_type": "code",
   "execution_count": 49,
   "metadata": {},
   "outputs": [],
   "source": [
    "def get_embed_dim(embed_file):\n",
    "    \n",
    "    with open(embed_file, 'rb') as f:\n",
    "        pepEmbedding = pickle.load(f)\n",
    "        \n",
    "    embedded_dim = pepEmbedding[0].shape\n",
    "    #print (embedded_dim)\n",
    "    \n",
    "    n_aa_symbols, embedded_dim = embedded_dim\n",
    "    print ('Vocab size    :' , n_aa_symbols)\n",
    "    print ('Embedding dim : ', embedded_dim)\n",
    "\n",
    "    embedding_weights = np.zeros((n_aa_symbols + 1,embedded_dim))\n",
    "    embedding_weights[1:,:] = pepEmbedding[0]\n",
    "    \n",
    "    return embedded_dim, embedding_weights, n_aa_symbols"
   ]
  },
  {
   "cell_type": "code",
   "execution_count": 50,
   "metadata": {},
   "outputs": [
    {
     "name": "stdout",
     "output_type": "stream",
     "text": [
      "Vocab size    : 256\n",
      "Embedding dim :  25\n"
     ]
    }
   ],
   "source": [
    "test = get_embed_dim('rnaEmbedding.pickle')  # saved embedding file"
   ]
  },
  {
   "cell_type": "markdown",
   "metadata": {},
   "source": [
    "## Courpus Embedding"
   ]
  },
  {
   "cell_type": "code",
   "execution_count": 51,
   "metadata": {},
   "outputs": [],
   "source": [
    "import multiprocessing"
   ]
  },
  {
   "cell_type": "code",
   "execution_count": 52,
   "metadata": {},
   "outputs": [],
   "source": [
    "min_count = 5 #\n",
    "dim = 50  # Embedding dimension\n",
    "window = 4\n",
    "cores = multiprocessing.cpu_count()\n",
    "\n",
    "w2v_model = None\n",
    "w2v_model = Word2Vec(sentences, min_count=min_count, \n",
    "                     size=dim, window=window, sg=1, iter = 10, batch_words=100,\n",
    "                     workers = cores)"
   ]
  },
  {
   "cell_type": "code",
   "execution_count": 53,
   "metadata": {},
   "outputs": [
    {
     "name": "stdout",
     "output_type": "stream",
     "text": [
      "Vocabulary size: 256\n"
     ]
    }
   ],
   "source": [
    "words = list(w2v_model.wv.vocab)\n",
    "print('Vocabulary size: %d' % len(words))"
   ]
  },
  {
   "cell_type": "code",
   "execution_count": 54,
   "metadata": {},
   "outputs": [
    {
     "name": "stdout",
     "output_type": "stream",
     "text": [
      "256\n",
      "['129', '83', '201', '84', '225', '37', '9', '116', '142', '186', '182', '246', '12', '14', '135', '134', '29', '206', '255', '68', '248', '112', '123', '87', '33', '203', '166', '45', '124', '120', '238', '18', '253', '32', '250', '195', '219', '171', '111', '191', '113', '118', '198', '72', '218', '151', '141', '39', '90', '8', '23', '179', '63', '48', '247', '11', '180', '172', '130', '163', '239', '38', '102', '160', '86', '223', '97', '138', '49', '214', '197', '58', '148', '155', '34', '119', '43', '17', '230', '204', '207', '108', '125', '60', '10', '74', '183', '232', '103', '28', '169', '145', '50', '6', '44', '126', '224', '188', '55', '146', '173', '96', '15', '54', '185', '181', '62', '100', '177', '212', '92', '93', '136', '139', '200', '0', '233', '121', '249', '47', '192', '65', '2', '22', '76', '85', '154', '24', '64', '242', '244', '31', '132', '79', '226', '243', '167', '69', '235', '165', '221', '252', '25', '137', '94', '210', '241', '35', '75', '170', '236', '104', '30', '175', '193', '66', '5', '156', '133', '176', '16', '251', '189', '194', '115', '222', '202', '122', '162', '152', '187', '159', '220', '174', '105', '147', '168', '114', '143', '41', '106', '211', '217', '71', '128', '51', '91', '89', '131', '77', '70', '57', '95', '88', '61', '208', '228', '67', '59', '205', '73', '157', '240', '19', '144', '161', '196', '3', '231', '36', '21', '117', '7', '140', '153', '52', '1', '42', '216', '81', '109', '98', '254', '78', '80', '199', '227', '164', '178', '127', '13', '209', '215', '158', '234', '53', '213', '82', '99', '20', '107', '149', '4', '237', '150', '40', '184', '110', '26', '245', '46', '27', '56', '101', '229', '190']\n"
     ]
    }
   ],
   "source": [
    "vocab = list(w2v_model.wv.vocab.keys())\n",
    "print(len(vocab))\n",
    "print(vocab)"
   ]
  },
  {
   "cell_type": "code",
   "execution_count": 55,
   "metadata": {},
   "outputs": [],
   "source": [
    "fw = open('rna_dict', 'w')\n",
    "for val in vocab:\n",
    "    fw.write(val + '\\n')\n",
    "fw.close()"
   ]
  },
  {
   "cell_type": "code",
   "execution_count": 56,
   "metadata": {},
   "outputs": [
    {
     "name": "stderr",
     "output_type": "stream",
     "text": [
      "C:\\Users\\jmo4cob\\AppData\\Local\\conda\\conda\\envs\\tf\\lib\\site-packages\\ipykernel_launcher.py:5: DeprecationWarning: Call to deprecated `__getitem__` (Method will be removed in 4.0.0, use self.wv.__getitem__() instead).\n",
      "  \"\"\"\n"
     ]
    }
   ],
   "source": [
    "embeddingWeights = np.empty([len(vocab), dim])\n",
    "allWeights = []\n",
    "\n",
    "for i in range(len(vocab)):\n",
    "    embeddingWeights[i,:] = w2v_model[vocab[i]]  \n",
    "\n",
    "allWeights.append(embeddingWeights)"
   ]
  },
  {
   "cell_type": "code",
   "execution_count": 57,
   "metadata": {},
   "outputs": [
    {
     "data": {
      "text/plain": [
       "(1, 256, 50)"
      ]
     },
     "execution_count": 57,
     "metadata": {},
     "output_type": "execute_result"
    }
   ],
   "source": [
    "np.array(allWeights).shape"
   ]
  },
  {
   "cell_type": "code",
   "execution_count": 58,
   "metadata": {},
   "outputs": [],
   "source": [
    "with open('rnaEmbedding50.pickle', 'wb') as f:\n",
    "    pickle.dump(allWeights, f)"
   ]
  },
  {
   "cell_type": "code",
   "execution_count": null,
   "metadata": {},
   "outputs": [],
   "source": []
  },
  {
   "cell_type": "code",
   "execution_count": 171,
   "metadata": {},
   "outputs": [],
   "source": [
    "# print(words)"
   ]
  },
  {
   "cell_type": "code",
   "execution_count": 60,
   "metadata": {},
   "outputs": [],
   "source": [
    "# save model in ASCII (word2vec) format\n",
    "filename = 'model/w2v_embeddings_50.txt'\n",
    "w2v_model.wv.save_word2vec_format(filename, binary=False)"
   ]
  },
  {
   "cell_type": "code",
   "execution_count": 61,
   "metadata": {},
   "outputs": [
    {
     "data": {
      "text/plain": [
       "(132586, 2)"
      ]
     },
     "execution_count": 61,
     "metadata": {},
     "output_type": "execute_result"
    }
   ],
   "source": [
    "X_train.shape"
   ]
  },
  {
   "cell_type": "code",
   "execution_count": 62,
   "metadata": {},
   "outputs": [
    {
     "data": {
      "text/plain": [
       "array(['ATCTACCCACGACGCTCAC', 'ATATACTTACCTGGCAGGG', 'CTAAAAATTATGTGCTAT',\n",
       "       ..., 'TTTTCTATTCAGCTGTGTCCTGTACA',\n",
       "       'ATAGTTGCAGGCAGTGTACCTCAGGTTGACTCTGTACAT',\n",
       "       'AATACCTAGGCCTGAGAAATAACCCC'], dtype=object)"
      ]
     },
     "execution_count": 62,
     "metadata": {},
     "output_type": "execute_result"
    }
   ],
   "source": [
    "X_train[:,0]"
   ]
  },
  {
   "cell_type": "code",
   "execution_count": 63,
   "metadata": {},
   "outputs": [],
   "source": [
    "# X_train = [i for i in X_train[:,0]] + [i for i in X_train[:,1]]\n",
    "# X_test = [i for i in X_test[:,0]] + [i for i in X_test[:,1]]\n",
    "# X_val = [i for i in X_val[:,0]] + [i for i in X_val[:,1]]"
   ]
  },
  {
   "cell_type": "code",
   "execution_count": 64,
   "metadata": {},
   "outputs": [
    {
     "data": {
      "text/plain": [
       "8839"
      ]
     },
     "execution_count": 64,
     "metadata": {},
     "output_type": "execute_result"
    }
   ],
   "source": [
    "len(X_test)"
   ]
  },
  {
   "cell_type": "code",
   "execution_count": 65,
   "metadata": {},
   "outputs": [
    {
     "data": {
      "text/plain": [
       "2951"
      ]
     },
     "execution_count": 65,
     "metadata": {},
     "output_type": "execute_result"
    }
   ],
   "source": [
    "len(X_val_pos)"
   ]
  },
  {
   "cell_type": "code",
   "execution_count": 66,
   "metadata": {},
   "outputs": [],
   "source": [
    "# y_train =  np.concatenate((np.ones(len(X_train_pos)), np.zeros(len(X_train_neg)),\n",
    "#                           np.ones(len(X_train_pos)), np.zeros(len(X_train_neg))))\n",
    "\n",
    "# y_test =  np.concatenate((np.ones(len(X_test_pos)), np.zeros(len(X_test_neg)),\n",
    "#                           np.ones(len(X_test_pos)), np.zeros(len(X_test_neg))))\n",
    "\n",
    "# y_val =  np.concatenate((np.ones(len(X_train_pos)), np.zeros(len(X_train_neg)),\n",
    "#                           np.ones(len(X_train_pos)), np.zeros(len(X_train_neg))))"
   ]
  },
  {
   "cell_type": "code",
   "execution_count": 67,
   "metadata": {},
   "outputs": [
    {
     "data": {
      "text/plain": [
       "(132586,)"
      ]
     },
     "execution_count": 67,
     "metadata": {},
     "output_type": "execute_result"
    }
   ],
   "source": [
    "y_train.shape"
   ]
  },
  {
   "cell_type": "code",
   "execution_count": 68,
   "metadata": {},
   "outputs": [],
   "source": [
    "# X_train_4mer = get_4_nucleotide_composition"
   ]
  },
  {
   "cell_type": "code",
   "execution_count": 69,
   "metadata": {},
   "outputs": [
    {
     "data": {
      "text/plain": [
       "array([['ATCTACCCACGACGCTCAC', 'TCAGACCCCAGAAAATCTGTTC'],\n",
       "       ['ATATACTTACCTGGCAGGG', 'CAAATGTGGGAAACTCGACTGCAC'],\n",
       "       ['CTAAAAATTATGTGCTAT', 'CATATATACATACATATATATATATATATATATATAAT'],\n",
       "       ...,\n",
       "       ['TTTTCTATTCAGCTGTGTCCTGTACA', 'AGGTTGCAGAAGAGGACTGAA'],\n",
       "       ['ATAGTTGCAGGCAGTGTACCTCAGGTTGACTCTGTACAT', 'AGAGCTCAGGCTTCAACG'],\n",
       "       ['AATACCTAGGCCTGAGAAATAACCCC', 'TTCTCCGAATATCCTAGAACTTTGGTGGCGCC']],\n",
       "      dtype=object)"
      ]
     },
     "execution_count": 69,
     "metadata": {},
     "output_type": "execute_result"
    }
   ],
   "source": [
    "X_train"
   ]
  },
  {
   "cell_type": "code",
   "execution_count": 93,
   "metadata": {},
   "outputs": [],
   "source": [
    "def padding_sequence(seq, max_len = 60, repkey = 'N'):\n",
    "    seq_len = len(seq)\n",
    "    if seq_len < max_len:\n",
    "        gap_len = max_len -seq_len\n",
    "        new_seq = seq + repkey * gap_len\n",
    "    else:\n",
    "        new_seq = seq[:max_len]\n",
    "    return new_seq"
   ]
  },
  {
   "cell_type": "code",
   "execution_count": 95,
   "metadata": {},
   "outputs": [],
   "source": [
    "def get_4mer(data):\n",
    "    result = []\n",
    "    for seq in data:\n",
    "        seq = seq.replace('T', 'U')\n",
    "        trvec = get_4_nucleotide_composition(tris, seq)\n",
    "        result.append(trvec)\n",
    "    print(len(result))\n",
    "    return result\n",
    "    "
   ]
  },
  {
   "cell_type": "code",
   "execution_count": 137,
   "metadata": {},
   "outputs": [
    {
     "name": "stdout",
     "output_type": "stream",
     "text": [
      "1\n",
      "[['220', '55', '77', '83', '84', '21', '69', '145', '36', '73', '146', '100', '217', '118', '29', '71', '17', '4', '1', '0', '0', '0', '0', '0', '0', '0', '0', '0', '0', '0', '0', '0', '0', '0', '0', '0', '0', '0', '0', '0', '0', '0', '0', '0', '0', '0', '0', '0', '0', '0', '0', '0', '0', '0', '0', '0', '0', '0', '0', '0', '0', '0', '0', '0', '0', '0', '0', '0', '0', '0', '0', '0', '0', '0', '0', '0', '0', '0', '0', '0', '0', '0', '0', '0', '0', '0', '0', '0', '0', '0', '0', '0', '0', '0', '0', '0', '0', '0']]\n"
     ]
    }
   ],
   "source": [
    "print(get_4mer([padding_sequence('ATCTACCCACGACGCTCAC', max_len = 101, repkey = 'A')]))"
   ]
  },
  {
   "cell_type": "code",
   "execution_count": 142,
   "metadata": {},
   "outputs": [
    {
     "name": "stdout",
     "output_type": "stream",
     "text": [
      "132586\n",
      "132586\n"
     ]
    }
   ],
   "source": [
    "# X_train_4mer_1 = get_4mer(X_train[:,0])\n",
    "# X_train_4mer_2 = get_4mer(X_train[:,1])\n",
    "X_train_4mer_1 = get_4mer([padding_sequence(s, max_len = 60, repkey = 'A') for s in X_train[:,0]])\n",
    "X_train_4mer_2 = get_4mer([padding_sequence(s, max_len = 60, repkey = 'A') for s in X_train[:,1]])"
   ]
  },
  {
   "cell_type": "code",
   "execution_count": 100,
   "metadata": {},
   "outputs": [
    {
     "name": "stdout",
     "output_type": "stream",
     "text": [
      "8839\n",
      "8839\n"
     ]
    }
   ],
   "source": [
    "# X_test_4mer_1 = get_4mer(X_test[:,0])\n",
    "# X_test_4mer_2 = get_4mer(X_test[:,1])\n",
    "X_test_4mer_1 = get_4mer([padding_sequence(s, max_len = 60, repkey = 'A') for s in X_test[:,0]])\n",
    "X_test_4mer_2 = get_4mer([padding_sequence(s, max_len = 60, repkey = 'A') for s in X_test[:,1]])"
   ]
  },
  {
   "cell_type": "code",
   "execution_count": 101,
   "metadata": {},
   "outputs": [
    {
     "name": "stdout",
     "output_type": "stream",
     "text": [
      "5894\n",
      "5894\n"
     ]
    }
   ],
   "source": [
    "# X_val_4mer_1 = get_4mer(X_val[:,0])\n",
    "# X_val_4mer_2 = get_4mer(X_val[:,1])\n",
    "X_val_4mer_1 = get_4mer([padding_sequence(s, max_len = 60, repkey = 'A') for s in X_val[:,0]])\n",
    "X_val_4mer_2 = get_4mer([padding_sequence(s, max_len = 60, repkey = 'A') for s in X_val[:,1]])"
   ]
  },
  {
   "cell_type": "code",
   "execution_count": 141,
   "metadata": {},
   "outputs": [
    {
     "name": "stdout",
     "output_type": "stream",
     "text": [
      "['174', '235', '122', '222', '119', '29', '135', '33', '8', '194', '112', '156', '167', '169', '170', '234', '250', '254', '255', '63', '15', '3', '0', '0', '0', '0', '0', '0', '0', '0', '0', '0', '0', '0', '0', '0', '0', '0', '0', '0', '0', '0', '0', '0', '0', '0', '0', '0', '0', '0', '0', '0', '0', '0', '0', '0', '0']\n"
     ]
    }
   ],
   "source": [
    "print(X_test_4mer_1[0])"
   ]
  },
  {
   "cell_type": "code",
   "execution_count": 103,
   "metadata": {},
   "outputs": [
    {
     "name": "stderr",
     "output_type": "stream",
     "text": [
      "C:\\Users\\jmo4cob\\AppData\\Local\\conda\\conda\\envs\\tf\\lib\\site-packages\\ipykernel_launcher.py:2: DeprecationWarning: Call to deprecated `__getitem__` (Method will be removed in 4.0.0, use self.wv.__getitem__() instead).\n",
      "  \n"
     ]
    },
    {
     "data": {
      "text/plain": [
       "array([-0.407302  ,  0.08696436, -0.20312703,  0.41696665, -0.30503637,\n",
       "       -0.09962324,  0.33291936, -0.19099519, -0.08413429, -0.18620801,\n",
       "       -0.05465721, -1.1762038 ,  0.797878  ,  0.23689686,  0.5723602 ,\n",
       "        0.20131387, -0.61145914,  0.12295924, -0.03662786, -0.5555615 ,\n",
       "       -0.10045581, -0.675999  ,  0.24336216,  0.38809872, -0.15048695,\n",
       "       -0.6875334 ,  0.19376706, -0.15889682,  0.4718345 ,  0.04107849,\n",
       "       -0.5518181 ,  0.2824417 , -0.02730521,  0.10912613, -0.00223927,\n",
       "       -0.34588417, -0.47125873,  0.2954773 ,  0.06884058, -0.26558048,\n",
       "       -0.2090646 ,  0.3525369 , -0.07186845,  0.59422237, -0.2402239 ,\n",
       "       -0.08116075, -0.01328024,  0.14365426,  0.09883946, -0.47723094],\n",
       "      dtype=float32)"
      ]
     },
     "execution_count": 103,
     "metadata": {},
     "output_type": "execute_result"
    }
   ],
   "source": [
    "vocab = list(w2v_model.wv.vocab.keys())\n",
    "w2v_model[vocab[255]]  "
   ]
  },
  {
   "cell_type": "code",
   "execution_count": 105,
   "metadata": {},
   "outputs": [],
   "source": [
    "def doc2vec_creator(d):\n",
    "    \n",
    "    word_vec = []\n",
    "    result=[]\n",
    "    for i, w in enumerate(d):\n",
    "        if w in vocab:\n",
    "            word_vec.append(w2v_model[vocab[int(w)]]) \n",
    "        #result = np.average(word_vec, axis=0)\n",
    "        \n",
    "    return word_vec"
   ]
  },
  {
   "cell_type": "code",
   "execution_count": 106,
   "metadata": {},
   "outputs": [],
   "source": [
    "def doc2vec(data):\n",
    "    \n",
    "    doc_vec = []\n",
    "    for d in data:\n",
    "        doc_vec.append(doc2vec_creator(d))\n",
    "    \n",
    "    return doc_vec"
   ]
  },
  {
   "cell_type": "code",
   "execution_count": 108,
   "metadata": {},
   "outputs": [
    {
     "name": "stderr",
     "output_type": "stream",
     "text": [
      "C:\\Users\\jmo4cob\\AppData\\Local\\conda\\conda\\envs\\tf\\lib\\site-packages\\ipykernel_launcher.py:7: DeprecationWarning: Call to deprecated `__getitem__` (Method will be removed in 4.0.0, use self.wv.__getitem__() instead).\n",
      "  import sys\n"
     ]
    },
    {
     "data": {
      "text/plain": [
       "[[array([-0.6073755 , -0.66263026, -0.42755622,  0.47741193,  0.58170086,\n",
       "          0.3797513 , -0.12132954,  0.01349368, -0.39964625, -0.18514511,\n",
       "          0.44136557, -0.38145316,  0.6710218 ,  0.08828803, -0.24568184,\n",
       "         -0.22163177, -0.61792487, -0.17690103, -0.0713216 , -0.34883112,\n",
       "          0.42827126, -0.4249769 ,  0.45643458, -0.72254366,  0.87001914,\n",
       "         -0.5060391 , -0.29589078, -0.04606955,  0.77355623, -0.12034245,\n",
       "          0.51080996, -0.75010127, -0.38121355,  0.7985915 ,  0.3303803 ,\n",
       "          0.22059053,  0.22572684, -0.0917562 , -0.03476254, -0.02706693,\n",
       "         -0.19291873,  0.1393059 ,  0.25586382, -0.0194787 , -0.05504386,\n",
       "          0.1318598 ,  0.14882967, -0.24826114, -0.3428421 ,  0.08805025],\n",
       "        dtype=float32)],\n",
       " [array([ 0.3158711 , -0.38408902, -0.35508376, -0.32884455, -0.18820001,\n",
       "          0.30987287, -0.43565255,  0.08092075, -0.29151082,  0.30475047,\n",
       "          0.04834893, -0.25840616, -0.7627024 ,  0.1531306 , -0.33677584,\n",
       "         -0.37133157, -0.7980784 , -0.42117554, -0.34925628, -0.2520638 ,\n",
       "          0.14295828, -0.4672442 ,  0.40183115, -0.24734668,  0.18154949,\n",
       "         -0.19164026, -0.31498054, -0.18226844,  0.69271344, -0.35259295,\n",
       "         -0.7082529 , -0.45491236, -0.12959556,  0.30522537, -0.9133489 ,\n",
       "         -0.3814998 , -0.3767617 ,  0.5236151 , -0.16355154, -0.03784826,\n",
       "         -0.44471994,  0.0175168 ,  0.6861386 ,  0.3057527 ,  0.53090984,\n",
       "          0.19254312, -0.81714815,  0.14285368,  0.3586315 , -0.45125002],\n",
       "        dtype=float32),\n",
       "  array([ 0.17830178, -0.79480964, -0.24015158, -0.51278347, -0.12860829,\n",
       "         -0.01005294, -0.36811125, -0.2672814 ,  0.27057737,  0.39028805,\n",
       "         -0.21297947,  0.40973544,  0.07848853,  0.71271676, -0.26342475,\n",
       "         -0.1116294 , -0.1064288 ,  0.48126253, -0.16333191, -0.46314237,\n",
       "         -0.8022404 , -0.1905435 , -0.2847021 , -0.2913357 , -0.13263305,\n",
       "         -0.18141875,  0.05705178, -0.7943575 ,  0.68030304,  0.14369197,\n",
       "         -0.02471237, -0.36113203,  0.274165  , -0.45250204,  0.41502744,\n",
       "         -0.06179607, -0.26964217,  0.61567724, -0.3332182 , -0.5634814 ,\n",
       "         -0.3446823 , -0.23517169,  0.08464339, -0.14956133, -0.37830937,\n",
       "         -0.79976225, -0.06888992,  0.8119134 , -0.02330646,  0.06579283],\n",
       "        dtype=float32)]]"
      ]
     },
     "execution_count": 108,
     "metadata": {},
     "output_type": "execute_result"
    }
   ],
   "source": [
    "#test\n",
    "doc2vec([['22'],['55','0']])"
   ]
  },
  {
   "cell_type": "code",
   "execution_count": 109,
   "metadata": {},
   "outputs": [],
   "source": [
    "from keras.preprocessing.sequence import pad_sequences"
   ]
  },
  {
   "cell_type": "code",
   "execution_count": 144,
   "metadata": {},
   "outputs": [
    {
     "name": "stderr",
     "output_type": "stream",
     "text": [
      "C:\\Users\\jmo4cob\\AppData\\Local\\conda\\conda\\envs\\tf\\lib\\site-packages\\ipykernel_launcher.py:7: DeprecationWarning: Call to deprecated `__getitem__` (Method will be removed in 4.0.0, use self.wv.__getitem__() instead).\n",
      "  import sys\n"
     ]
    }
   ],
   "source": [
    "X_train_vec_1 = doc2vec(X_train_4mer_1)\n",
    "X_train_vec_2 = doc2vec(X_train_4mer_2)"
   ]
  },
  {
   "cell_type": "code",
   "execution_count": 145,
   "metadata": {},
   "outputs": [
    {
     "data": {
      "text/plain": [
       "57"
      ]
     },
     "execution_count": 145,
     "metadata": {},
     "output_type": "execute_result"
    }
   ],
   "source": [
    "len(X_train_vec_1[1])"
   ]
  },
  {
   "cell_type": "code",
   "execution_count": 146,
   "metadata": {},
   "outputs": [
    {
     "data": {
      "text/plain": [
       "(132586, 57)"
      ]
     },
     "execution_count": 146,
     "metadata": {},
     "output_type": "execute_result"
    }
   ],
   "source": [
    "pd.DataFrame(X_train_4mer_1).shape"
   ]
  },
  {
   "cell_type": "code",
   "execution_count": 147,
   "metadata": {},
   "outputs": [
    {
     "name": "stderr",
     "output_type": "stream",
     "text": [
      "C:\\Users\\jmo4cob\\AppData\\Local\\conda\\conda\\envs\\tf\\lib\\site-packages\\ipykernel_launcher.py:7: DeprecationWarning: Call to deprecated `__getitem__` (Method will be removed in 4.0.0, use self.wv.__getitem__() instead).\n",
      "  import sys\n"
     ]
    }
   ],
   "source": [
    "X_test_vec_1 = doc2vec(X_test_4mer_1)\n",
    "X_test_vec_2 = doc2vec(X_test_4mer_1)"
   ]
  },
  {
   "cell_type": "code",
   "execution_count": 148,
   "metadata": {},
   "outputs": [
    {
     "data": {
      "text/plain": [
       "(8839, 57)"
      ]
     },
     "execution_count": 148,
     "metadata": {},
     "output_type": "execute_result"
    }
   ],
   "source": [
    "pd.DataFrame(X_test_vec_1).shape"
   ]
  },
  {
   "cell_type": "code",
   "execution_count": 149,
   "metadata": {},
   "outputs": [],
   "source": [
    "# X_test_4mer_pad = pad_sequences(X_test_4mer, maxlen=160)\n",
    "# X_test_4mer_pad.shape"
   ]
  },
  {
   "cell_type": "code",
   "execution_count": 150,
   "metadata": {},
   "outputs": [],
   "source": [
    "# pd.DataFrame(X_test_vec).shape"
   ]
  },
  {
   "cell_type": "code",
   "execution_count": 151,
   "metadata": {},
   "outputs": [
    {
     "name": "stderr",
     "output_type": "stream",
     "text": [
      "C:\\Users\\jmo4cob\\AppData\\Local\\conda\\conda\\envs\\tf\\lib\\site-packages\\ipykernel_launcher.py:7: DeprecationWarning: Call to deprecated `__getitem__` (Method will be removed in 4.0.0, use self.wv.__getitem__() instead).\n",
      "  import sys\n"
     ]
    }
   ],
   "source": [
    "X_val_vec_1 = doc2vec(X_val_4mer_1)\n",
    "X_val_vec_2 = doc2vec(X_val_4mer_2)"
   ]
  },
  {
   "cell_type": "code",
   "execution_count": 152,
   "metadata": {},
   "outputs": [
    {
     "data": {
      "text/plain": [
       "array([1., 1., 1., ..., 0., 0., 0.])"
      ]
     },
     "execution_count": 152,
     "metadata": {},
     "output_type": "execute_result"
    }
   ],
   "source": [
    "y_train"
   ]
  },
  {
   "cell_type": "code",
   "execution_count": 153,
   "metadata": {},
   "outputs": [
    {
     "data": {
      "text/plain": [
       "array([1., 1., 1., ..., 0., 0., 0.])"
      ]
     },
     "execution_count": 153,
     "metadata": {},
     "output_type": "execute_result"
    }
   ],
   "source": [
    "y_test"
   ]
  },
  {
   "cell_type": "code",
   "execution_count": 154,
   "metadata": {},
   "outputs": [
    {
     "data": {
      "text/plain": [
       "array([1., 1., 1., ..., 0., 0., 0.])"
      ]
     },
     "execution_count": 154,
     "metadata": {},
     "output_type": "execute_result"
    }
   ],
   "source": [
    "y_val"
   ]
  },
  {
   "cell_type": "markdown",
   "metadata": {},
   "source": [
    "## Model"
   ]
  },
  {
   "cell_type": "code",
   "execution_count": 155,
   "metadata": {},
   "outputs": [],
   "source": [
    "X_train_df_1 = pd.DataFrame(X_train_vec_1)\n",
    "X_train_df_2 = pd.DataFrame(X_train_vec_2)"
   ]
  },
  {
   "cell_type": "code",
   "execution_count": 156,
   "metadata": {},
   "outputs": [
    {
     "data": {
      "text/plain": [
       "(132586, 114)"
      ]
     },
     "execution_count": 156,
     "metadata": {},
     "output_type": "execute_result"
    }
   ],
   "source": [
    "X_train_df = pd.concat((X_train_df_1,X_train_df_2), axis=1)\n",
    "X_train_df.shape"
   ]
  },
  {
   "cell_type": "code",
   "execution_count": null,
   "metadata": {},
   "outputs": [],
   "source": []
  },
  {
   "cell_type": "code",
   "execution_count": 157,
   "metadata": {},
   "outputs": [],
   "source": [
    "X_test_df_1 = pd.DataFrame(X_test_vec_1)\n",
    "X_test_df_2 = pd.DataFrame(X_test_vec_2)"
   ]
  },
  {
   "cell_type": "code",
   "execution_count": 158,
   "metadata": {},
   "outputs": [
    {
     "data": {
      "text/plain": [
       "(8839, 114)"
      ]
     },
     "execution_count": 158,
     "metadata": {},
     "output_type": "execute_result"
    }
   ],
   "source": [
    "X_test_df = pd.concat((X_test_df_1,X_test_df_2), axis=1)\n",
    "X_test_df.shape"
   ]
  },
  {
   "cell_type": "code",
   "execution_count": 159,
   "metadata": {},
   "outputs": [
    {
     "data": {
      "text/plain": [
       "(5894, 114)"
      ]
     },
     "execution_count": 159,
     "metadata": {},
     "output_type": "execute_result"
    }
   ],
   "source": [
    "X_val_df_1 = pd.DataFrame(X_val_vec_1)\n",
    "X_val_df_2 = pd.DataFrame(X_val_vec_2)\n",
    "X_val_df = pd.concat((X_val_df_1,X_val_df_2), axis=1)\n",
    "X_val_df.shape"
   ]
  },
  {
   "cell_type": "code",
   "execution_count": 160,
   "metadata": {},
   "outputs": [
    {
     "data": {
      "text/plain": [
       "(5894, 114)"
      ]
     },
     "execution_count": 160,
     "metadata": {},
     "output_type": "execute_result"
    }
   ],
   "source": [
    "X_val_df = pd.concat((X_val_df_1,X_val_df_2), axis=1)\n",
    "X_val_df.shape"
   ]
  },
  {
   "cell_type": "code",
   "execution_count": 161,
   "metadata": {},
   "outputs": [
    {
     "data": {
      "text/plain": [
       "list"
      ]
     },
     "execution_count": 161,
     "metadata": {},
     "output_type": "execute_result"
    }
   ],
   "source": [
    "type(X_test_vec_1)"
   ]
  },
  {
   "cell_type": "code",
   "execution_count": 162,
   "metadata": {},
   "outputs": [
    {
     "data": {
      "text/plain": [
       "(8839,)"
      ]
     },
     "execution_count": 162,
     "metadata": {},
     "output_type": "execute_result"
    }
   ],
   "source": [
    "y_test.shape"
   ]
  },
  {
   "cell_type": "code",
   "execution_count": 163,
   "metadata": {},
   "outputs": [
    {
     "data": {
      "text/plain": [
       "256"
      ]
     },
     "execution_count": 163,
     "metadata": {},
     "output_type": "execute_result"
    }
   ],
   "source": [
    "#w2v_model[vocab[int(w)]\n",
    "len(vocab)"
   ]
  },
  {
   "cell_type": "code",
   "execution_count": 165,
   "metadata": {},
   "outputs": [],
   "source": [
    "#embedding_matrix.shape"
   ]
  },
  {
   "cell_type": "code",
   "execution_count": 447,
   "metadata": {},
   "outputs": [],
   "source": [
    "from keras.initializers import Constant"
   ]
  },
  {
   "cell_type": "code",
   "execution_count": 448,
   "metadata": {},
   "outputs": [],
   "source": [
    "# # define model\n",
    "# model = Sequential()\n",
    "# # load pre-trained word embeddings into an Embedding layer\n",
    "# # note that we set trainable = False so as to keep the embeddings fixed\n",
    "# embedding_layer = Embedding(len(vocab),\n",
    "#                             dim,\n",
    "#                             embeddings_initializer=Constant(embedding_matrix),\n",
    "#                             input_length=,\n",
    "#                             trainable=False)\n",
    "\n",
    "# model.add(embedding_layer)\n",
    "# model.add(Conv1D(filters=128, kernel_size=5, activation='relu'))\n",
    "# model.add(MaxPooling1D(pool_size=2))\n",
    "# model.add(Flatten())\n",
    "# model.add(Dense(1, activation='sigmoid'))\n",
    "# print(model.summary())\n",
    "\n",
    "# # compile network\n",
    "# model.compile(loss='binary_crossentropy', optimizer='adam', metrics=['accuracy'])"
   ]
  },
  {
   "cell_type": "code",
   "execution_count": 166,
   "metadata": {},
   "outputs": [
    {
     "name": "stderr",
     "output_type": "stream",
     "text": [
      "C:\\Users\\jmo4cob\\AppData\\Local\\conda\\conda\\envs\\tf\\lib\\site-packages\\ipykernel_launcher.py:9: DeprecationWarning: Call to deprecated `__getitem__` (Method will be removed in 4.0.0, use self.wv.__getitem__() instead).\n",
      "  if __name__ == '__main__':\n"
     ]
    }
   ],
   "source": [
    "embedding_matrix = np.zeros((len(vocab), dim))\n",
    "# for v in vocab:\n",
    "#     w2v_model[vocab[int(w)]\n",
    "num_words = len(vocab)\n",
    "                            \n",
    "for i, w in enumerate(vocab):\n",
    "    if i > num_words:\n",
    "        continue\n",
    "    embedding_vector = w2v_model[vocab[int(w)]]\n",
    "    if embedding_vector is not None:\n",
    "        # words not found in embedding index will be all-zeros.\n",
    "        embedding_matrix[i] = embedding_vector"
   ]
  },
  {
   "cell_type": "code",
   "execution_count": 167,
   "metadata": {},
   "outputs": [
    {
     "data": {
      "text/plain": [
       "(132586, 114)"
      ]
     },
     "execution_count": 167,
     "metadata": {},
     "output_type": "execute_result"
    }
   ],
   "source": [
    "X_train_df.shape"
   ]
  },
  {
   "cell_type": "code",
   "execution_count": 170,
   "metadata": {},
   "outputs": [],
   "source": [
    "indices = np.arange(X_train_df.shape[0])\n",
    "np.random.shuffle(indices)\n",
    "X_train_df = X_train_df.iloc[indices]"
   ]
  },
  {
   "cell_type": "code",
   "execution_count": 171,
   "metadata": {},
   "outputs": [
    {
     "data": {
      "text/plain": [
       "(132586,)"
      ]
     },
     "execution_count": 171,
     "metadata": {},
     "output_type": "execute_result"
    }
   ],
   "source": [
    "indices.shape"
   ]
  },
  {
   "cell_type": "code",
   "execution_count": 172,
   "metadata": {},
   "outputs": [],
   "source": [
    "y_train_df = y_train[indices]"
   ]
  },
  {
   "cell_type": "code",
   "execution_count": null,
   "metadata": {},
   "outputs": [],
   "source": []
  },
  {
   "cell_type": "code",
   "execution_count": null,
   "metadata": {},
   "outputs": [],
   "source": []
  },
  {
   "cell_type": "code",
   "execution_count": 252,
   "metadata": {},
   "outputs": [],
   "source": [
    "def set_cnn_embed(n_aa_symbols, input_length, embedded_dim, embedding_weights, nb_filter = 16):\n",
    "    #nb_filter = 64\n",
    "    filter_length = 10\n",
    "    dropout = 0.5\n",
    "    model = Sequential()\n",
    "    #pdb.set_trace()\n",
    "    model.add(Embedding(input_dim=n_aa_symbols+1, output_dim = embedded_dim, weights=[embedding_weights], \n",
    "        input_length=input_length, trainable = True))\n",
    "    print ('after embed', model.output_shape)\n",
    "    model.add(Convolution1D(nb_filter, filter_length, border_mode='valid', init='glorot_normal'))\n",
    "    model.add(Activation(LeakyReLU(.3)))\n",
    "    model.add(MaxPooling1D(pool_length=3))\n",
    "    model.add(Dropout(dropout))\n",
    "    \n",
    "    return model\n",
    "\n",
    "def get_cnn_network_graphprot(rna_len = 151, nb_filter = 16):\n",
    "    print ('configure cnn network')\n",
    "    embedded_rna_dim, embedding_rna_weights, n_nucl_symbols = get_embed_dim('rnaEmbedding50.pickle')\n",
    "    print ('symbol', n_nucl_symbols)\n",
    "    model = set_cnn_embed(n_nucl_symbols, rna_len, embedded_rna_dim, embedding_rna_weights, nb_filter = nb_filter)\n",
    "    \n",
    "    #model.add(Bidirectional(LSTM(2*nbfilter)))\n",
    "    #model.add(Dropout(0.10))\n",
    "    model.add(Flatten())\n",
    "    model.add(Dense(nb_filter*50, activation='relu')) \n",
    "    model.add(Dropout(0.50))\n",
    "    model.add(Dense(nb_filter*10, activation='sigmoid')) \n",
    "    model.add(Dropout(0.50))\n",
    "    print (model.output_shape)\n",
    "    \n",
    "    return model"
   ]
  },
  {
   "cell_type": "code",
   "execution_count": 279,
   "metadata": {},
   "outputs": [],
   "source": [
    "def run_network(model, total_hid, training, testing, y, validation, val_y):\n",
    "    model.add(Dense(1))\n",
    "    model.add(Activation('sigmoid'))\n",
    "    \n",
    "    #sgd = SGD(lr=0.01, decay=1e-6, momentum=0.9, nesterov=True)sgd)#'\n",
    "    model.compile(loss='binary_crossentropy', optimizer='rmsprop')\n",
    "    #pdb.set_trace()\n",
    "    print ('model training')\n",
    "    #checkpointer = ModelCheckpoint(filepath=\"models/bestmodel.hdf5\", verbose=0, save_best_only=True)\n",
    "    earlystopper = EarlyStopping(monitor='val_loss', patience=5, verbose=0)\n",
    "\n",
    "    model.fit(training, y, batch_size=100, nb_epoch=10, verbose=0, validation_data=(validation, val_y), callbacks=[earlystopper])\n",
    "    \n",
    "    predictions = model.predict_proba(testing)#[:,1]\n",
    "    return predictions, model"
   ]
  },
  {
   "cell_type": "code",
   "execution_count": 280,
   "metadata": {},
   "outputs": [],
   "source": [
    "def calculate_auc(net, hid, train, test, true_y, train_y, validation = None, val_y = None, \n",
    "                  model_name = None):\n",
    "    predict, model = run_network(net, hid, train, test, train_y, validation, val_y)\n",
    "    #pdb.set_trace()\n",
    "    auc = roc_auc_score(true_y, predict)\n",
    "        \n",
    "    print (\"Test AUC: \", auc)\n",
    "\n",
    "    return auc, predict "
   ]
  },
  {
   "cell_type": "code",
   "execution_count": 281,
   "metadata": {},
   "outputs": [
    {
     "name": "stdout",
     "output_type": "stream",
     "text": [
      "configure cnn network\n",
      "Vocab size    : 256\n",
      "Embedding dim :  50\n",
      "symbol 256\n",
      "after embed (None, 114, 50)\n",
      "(None, 160)\n"
     ]
    },
    {
     "name": "stderr",
     "output_type": "stream",
     "text": [
      "C:\\Users\\jmo4cob\\AppData\\Local\\conda\\conda\\envs\\tf\\lib\\site-packages\\ipykernel_launcher.py:10: UserWarning: Update your `Conv1D` call to the Keras 2 API: `Conv1D(16, 10, padding=\"valid\", kernel_initializer=\"glorot_normal\")`\n",
      "  # Remove the CWD from sys.path while we load stuff.\n",
      "C:\\Users\\jmo4cob\\AppData\\Local\\conda\\conda\\envs\\tf\\lib\\site-packages\\keras\\activations.py:211: UserWarning: Do not pass a layer instance (such as LeakyReLU) as the activation argument of another layer. Instead, advanced activation layers should be used just like any other layer in a model.\n",
      "  identifier=identifier.__class__.__name__))\n",
      "C:\\Users\\jmo4cob\\AppData\\Local\\conda\\conda\\envs\\tf\\lib\\site-packages\\ipykernel_launcher.py:12: UserWarning: Update your `MaxPooling1D` call to the Keras 2 API: `MaxPooling1D(pool_size=3)`\n",
      "  if sys.path[0] == '':\n"
     ]
    }
   ],
   "source": [
    "seq_hid = 16\n",
    "seq_net = get_cnn_network_graphprot(rna_len = 114, nb_filter = seq_hid)"
   ]
  },
  {
   "cell_type": "code",
   "execution_count": 282,
   "metadata": {},
   "outputs": [],
   "source": [
    "#X_train_4mer = pd.concat((pd.DataFrame(X_train_4mer_1),pd.DataFrame(X_train_4mer_2)), axis=1)\n",
    "X_train_4mer = [X_train_4mer_1[i]+X_train_4mer_1[i] for i in range(len(X_train_4mer_1))]\n",
    "#X_train_4mer\n",
    "X_test_4mer = [X_test_4mer_1[i]+X_test_4mer_1[i] for i in range(len(X_test_4mer_1))]\n",
    "X_val_4mer = [X_val_4mer_1[i]+X_val_4mer_1[i] for i in range(len(X_val_4mer_1))]"
   ]
  },
  {
   "cell_type": "code",
   "execution_count": null,
   "metadata": {},
   "outputs": [],
   "source": []
  },
  {
   "cell_type": "code",
   "execution_count": null,
   "metadata": {},
   "outputs": [],
   "source": [
    "seq_auc, seq_predict = calculate_auc(seq_net, seq_hid, np.array(X_train_4mer), np.array(X_test_4mer), \n",
    "                                     y_test, y_train, \n",
    "                                     validation = np.array(X_val_4mer),\n",
    "                                      val_y = y_val, model_name = 'my_model_CNN')"
   ]
  },
  {
   "cell_type": "code",
   "execution_count": 284,
   "metadata": {},
   "outputs": [
    {
     "name": "stdout",
     "output_type": "stream",
     "text": [
      "0.6109945755544122\n"
     ]
    }
   ],
   "source": [
    "print (str(seq_auc))\n"
   ]
  },
  {
   "cell_type": "code",
   "execution_count": null,
   "metadata": {},
   "outputs": [],
   "source": []
  }
 ],
 "metadata": {
  "kernelspec": {
   "display_name": "Python 3",
   "language": "python",
   "name": "python3"
  },
  "language_info": {
   "codemirror_mode": {
    "name": "ipython",
    "version": 3
   },
   "file_extension": ".py",
   "mimetype": "text/x-python",
   "name": "python",
   "nbconvert_exporter": "python",
   "pygments_lexer": "ipython3",
   "version": "3.5.4"
  }
 },
 "nbformat": 4,
 "nbformat_minor": 2
}
